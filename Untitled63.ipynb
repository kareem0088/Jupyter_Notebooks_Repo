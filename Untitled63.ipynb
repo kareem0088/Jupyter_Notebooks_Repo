{
 "cells": [
  {
   "cell_type": "code",
   "execution_count": 17,
   "id": "929a6359-0ac5-40f4-a5c3-b7886c382d5c",
   "metadata": {},
   "outputs": [
    {
     "name": "stdout",
     "output_type": "stream",
     "text": [
      " * Serving Flask app '__main__'\n",
      " * Debug mode: on\n"
     ]
    },
    {
     "name": "stderr",
     "output_type": "stream",
     "text": [
      "WARNING: This is a development server. Do not use it in a production deployment. Use a production WSGI server instead.\n",
      " * Running on all addresses (0.0.0.0)\n",
      " * Running on http://127.0.0.1:5000\n",
      " * Running on http://192.168.1.12:5000\n",
      "Press CTRL+C to quit\n",
      " * Restarting with watchdog (windowsapi)\n"
     ]
    },
    {
     "ename": "SystemExit",
     "evalue": "1",
     "output_type": "error",
     "traceback": [
      "An exception has occurred, use %tb to see the full traceback.\n",
      "\u001b[1;31mSystemExit\u001b[0m\u001b[1;31m:\u001b[0m 1\n"
     ]
    }
   ],
   "source": [
    "from flask import Flask, request, jsonify\n",
    "from flask_sqlalchemy import SQLAlchemy\n",
    "import datetime\n",
    "\n",
    "# إنشاء التطبيق وتهيئة قاعدة البيانات\n",
    "app = Flask(__name__)\n",
    "app.config['SQLALCHEMY_DATABASE_URI'] = 'sqlite:///users.db'\n",
    "db = SQLAlchemy(app)\n",
    "\n",
    "# نموذج بيانات المستخدم\n",
    "class User(db.Model):\n",
    "    id = db.Column(db.Integer, primary_key=True)\n",
    "    username = db.Column(db.String(50), unique=True, nullable=False)\n",
    "    password = db.Column(db.String(50), nullable=False)\n",
    "    expiry_date = db.Column(db.Date, nullable=False)\n",
    "\n",
    "# استخدام سياق التطبيق لإنشاء قاعدة البيانات\n",
    "with app.app_context():\n",
    "    db.create_all()\n",
    "\n",
    "# نقطة النهاية لتسجيل الدخول\n",
    "@app.route('/login', methods=['POST'])\n",
    "def login():\n",
    "    data = request.get_json()\n",
    "    username = data.get('username')\n",
    "    password = data.get('password')\n",
    "    \n",
    "    # البحث عن المستخدم في قاعدة البيانات\n",
    "    user = User.query.filter_by(username=username).first()\n",
    "    if user and user.password == password:\n",
    "        # التحقق من صلاحية الحساب\n",
    "        if user.expiry_date >= datetime.date.today():\n",
    "            return jsonify({\"status\": \"success\", \"message\": \"Login successful\"})\n",
    "        else:\n",
    "            return jsonify({\"status\": \"error\", \"message\": \"Account expired\"})\n",
    "    else:\n",
    "        return jsonify({\"status\": \"error\", \"message\": \"Invalid username or password\"})\n",
    "\n",
    "# إضافة مستخدم جديد إلى قاعدة البيانات\n",
    "@app.route('/add_user', methods=['POST'])\n",
    "def add_user():\n",
    "    data = request.get_json()\n",
    "    username = data.get('username')\n",
    "    password = data.get('password')\n",
    "    expiry_date = datetime.datetime.strptime(data.get('expiry_date'), '%Y-%m-%d').date()\n",
    "    \n",
    "    # التحقق مما إذا كان المستخدم موجودًا بالفعل\n",
    "    existing_user = User.query.filter_by(username=username).first()\n",
    "    if existing_user:\n",
    "        return jsonify({\"status\": \"error\", \"message\": \"User already exists\"})\n",
    "    \n",
    "    # إضافة المستخدم الجديد\n",
    "    new_user = User(username=username, password=password, expiry_date=expiry_date)\n",
    "    db.session.add(new_user)\n",
    "    db.session.commit()\n",
    "    \n",
    "    return jsonify({\"status\": \"success\", \"message\": f\"User {username} added successfully\"})\n",
    "\n",
    "# عرض جميع المستخدمين\n",
    "@app.route('/users', methods=['GET'])\n",
    "def get_users():\n",
    "    users = User.query.all()\n",
    "    users_list = [{\"id\": user.id, \"username\": user.username, \"expiry_date\": user.expiry_date} for user in users]\n",
    "    return jsonify({\"status\": \"success\", \"users\": users_list})\n",
    "\n",
    "# حذف مستخدم\n",
    "@app.route('/delete_user/<int:user_id>', methods=['DELETE'])\n",
    "def delete_user(user_id):\n",
    "    user = User.query.get(user_id)\n",
    "    if not user:\n",
    "        return jsonify({\"status\": \"error\", \"message\": \"User not found\"})\n",
    "    \n",
    "    db.session.delete(user)\n",
    "    db.session.commit()\n",
    "    return jsonify({\"status\": \"success\", \"message\": f\"User {user.username} deleted successfully\"})\n",
    "\n",
    "# تحديث كلمة مرور المستخدم\n",
    "@app.route('/update_password/<int:user_id>', methods=['PUT'])\n",
    "def update_password(user_id):\n",
    "    data = request.get_json()\n",
    "    new_password = data.get('password')\n",
    "    \n",
    "    user = User.query.get(user_id)\n",
    "    if not user:\n",
    "        return jsonify({\"status\": \"error\", \"message\": \"User not found\"})\n",
    "    \n",
    "    user.password = new_password\n",
    "    db.session.commit()\n",
    "    \n",
    "    return jsonify({\"status\": \"success\", \"message\": f\"Password for user {user.username} updated successfully\"})\n",
    "\n",
    "# بدء السيرفر\n",
    "if __name__ == '__main__':\n",
    "    app.run(debug=True, host='0.0.0.0', port=5000)\n"
   ]
  },
  {
   "cell_type": "code",
   "execution_count": 15,
   "id": "2fc04510-3935-450a-96e2-8e3dee0936b6",
   "metadata": {},
   "outputs": [
    {
     "name": "stdout",
     "output_type": "stream",
     "text": [
      "Defaulting to user installation because normal site-packages is not writeable\n",
      "Collecting gunicorn\n",
      "  Downloading gunicorn-23.0.0-py3-none-any.whl.metadata (4.4 kB)\n",
      "Requirement already satisfied: packaging in c:\\users\\access\\appdata\\roaming\\python\\python312\\site-packages (from gunicorn) (24.1)\n",
      "Downloading gunicorn-23.0.0-py3-none-any.whl (85 kB)\n",
      "Installing collected packages: gunicorn\n",
      "Successfully installed gunicorn-23.0.0\n",
      "Note: you may need to restart the kernel to use updated packages.\n"
     ]
    },
    {
     "name": "stderr",
     "output_type": "stream",
     "text": [
      "  WARNING: The script gunicorn.exe is installed in 'C:\\Users\\Access\\AppData\\Roaming\\Python\\Python312\\Scripts' which is not on PATH.\n",
      "  Consider adding this directory to PATH or, if you prefer to suppress this warning, use --no-warn-script-location.\n",
      "\n",
      "[notice] A new release of pip is available: 24.3.1 -> 25.0.1\n",
      "[notice] To update, run: python.exe -m pip install --upgrade pip\n"
     ]
    }
   ],
   "source": [
    "pip install gunicorn\n"
   ]
  },
  {
   "cell_type": "code",
   "execution_count": 16,
   "id": "124a4928-d98b-4173-8fc0-c105dda6fb2b",
   "metadata": {},
   "outputs": [
    {
     "ename": "SyntaxError",
     "evalue": "invalid syntax (842801469.py, line 1)",
     "output_type": "error",
     "traceback": [
      "\u001b[1;36m  Cell \u001b[1;32mIn[16], line 1\u001b[1;36m\u001b[0m\n\u001b[1;33m    python.exe -m pip install --upgrade pip\u001b[0m\n\u001b[1;37m                  ^\u001b[0m\n\u001b[1;31mSyntaxError\u001b[0m\u001b[1;31m:\u001b[0m invalid syntax\n"
     ]
    }
   ],
   "source": [
    "python.exe -m pip install --upgrade pip"
   ]
  },
  {
   "cell_type": "code",
   "execution_count": 18,
   "id": "be77c21e-308d-48d3-b1a6-00c1b095b4c6",
   "metadata": {},
   "outputs": [
    {
     "name": "stdout",
     "output_type": "stream",
     "text": [
      " * Serving Flask app '__main__'\n",
      " * Debug mode: on\n"
     ]
    },
    {
     "name": "stderr",
     "output_type": "stream",
     "text": [
      "WARNING: This is a development server. Do not use it in a production deployment. Use a production WSGI server instead.\n",
      " * Running on all addresses (0.0.0.0)\n",
      " * Running on http://127.0.0.1:5000\n",
      " * Running on http://192.168.1.12:5000\n",
      "Press CTRL+C to quit\n",
      " * Restarting with watchdog (windowsapi)\n"
     ]
    },
    {
     "ename": "SystemExit",
     "evalue": "1",
     "output_type": "error",
     "traceback": [
      "An exception has occurred, use %tb to see the full traceback.\n",
      "\u001b[1;31mSystemExit\u001b[0m\u001b[1;31m:\u001b[0m 1\n"
     ]
    }
   ],
   "source": [
    "from flask import Flask, request, jsonify\n",
    "import sqlite3\n",
    "from datetime import datetime\n",
    "from werkzeug.security import generate_password_hash, check_password_hash\n",
    "\n",
    "app = Flask(__name__)\n",
    "DATABASE = 'users.db'\n",
    "\n",
    "# دالة لإنشاء قاعدة البيانات والجدول إذا لم تكن موجودة\n",
    "def init_db():\n",
    "    conn = sqlite3.connect(DATABASE)\n",
    "    cursor = conn.cursor()\n",
    "    cursor.execute('''\n",
    "        CREATE TABLE IF NOT EXISTS users (\n",
    "            id INTEGER PRIMARY KEY AUTOINCREMENT,\n",
    "            username TEXT UNIQUE NOT NULL,\n",
    "            password TEXT NOT NULL,\n",
    "            expiry_date TEXT NOT NULL\n",
    "        )\n",
    "    ''')\n",
    "    conn.commit()\n",
    "    conn.close()\n",
    "\n",
    "init_db()\n",
    "\n",
    "# Endpoint لإنشاء حساب مستخدم جديد\n",
    "@app.route('/register', methods=['POST'])\n",
    "def register():\n",
    "    data = request.json\n",
    "    username = data.get('username')\n",
    "    password = data.get('password')\n",
    "    expiry_date = data.get('expiry_date')  # بالشكل YYYY-MM-DD\n",
    "\n",
    "    if not username or not password or not expiry_date:\n",
    "        return jsonify({'status': 'error', 'message': 'الرجاء توفير جميع البيانات المطلوبة'}), 400\n",
    "\n",
    "    hashed_password = generate_password_hash(password)\n",
    "    try:\n",
    "        conn = sqlite3.connect(DATABASE)\n",
    "        cursor = conn.cursor()\n",
    "        cursor.execute('INSERT INTO users (username, password, expiry_date) VALUES (?, ?, ?)',\n",
    "                       (username, hashed_password, expiry_date))\n",
    "        conn.commit()\n",
    "        conn.close()\n",
    "        return jsonify({'status': 'success', 'message': 'تم إنشاء الحساب بنجاح'})\n",
    "    except sqlite3.IntegrityError:\n",
    "        return jsonify({'status': 'error', 'message': 'اسم المستخدم موجود بالفعل'}), 409\n",
    "\n",
    "# Endpoint للتحقق من بيانات المستخدم واستقبال الصفقات\n",
    "@app.route('/trade', methods=['POST'])\n",
    "def trade():\n",
    "    data = request.json\n",
    "    username = data.get('username')\n",
    "    password = data.get('password')\n",
    "    trade_data = data.get('trade_data')  # بيانات الصفقات يمكن أن تكون بصيغة JSON\n",
    "\n",
    "    if not username or not password or not trade_data:\n",
    "        return jsonify({'status': 'error', 'message': 'الرجاء توفير جميع البيانات المطلوبة'}), 400\n",
    "\n",
    "    conn = sqlite3.connect(DATABASE)\n",
    "    cursor = conn.cursor()\n",
    "    cursor.execute('SELECT password, expiry_date FROM users WHERE username=?', (username,))\n",
    "    row = cursor.fetchone()\n",
    "    conn.close()\n",
    "\n",
    "    if row is None:\n",
    "        return jsonify({'status': 'error', 'message': 'المستخدم غير موجود'}), 404\n",
    "\n",
    "    stored_password, expiry_date = row\n",
    "    if not check_password_hash(stored_password, password):\n",
    "        return jsonify({'status': 'error', 'message': 'كلمة المرور غير صحيحة'}), 401\n",
    "\n",
    "    # التأكد من صلاحية الحساب\n",
    "    if datetime.strptime(expiry_date, '%Y-%m-%d') < datetime.now():\n",
    "        return jsonify({'status': 'error', 'message': 'انتهت صلاحية الحساب'}), 403\n",
    "\n",
    "    # هنا يتم معالجة بيانات الصفقات كما هو مطلوب (حفظها، تحليلها، ...الخ)\n",
    "    # مثال بسيط: طباعة البيانات في الخادم\n",
    "    print(\"تم استقبال صفقة:\", trade_data)\n",
    "    return jsonify({'status': 'success', 'message': 'تم استقبال الصفقة بنجاح'})\n",
    "\n",
    "if __name__ == '__main__':\n",
    "    # تأكد من تشغيل السيرفر باستخدام HTTPS في بيئة الإنتاج لضمان الأمان\n",
    "    app.run(host='0.0.0.0', port=5000, debug=True)\n"
   ]
  },
  {
   "cell_type": "code",
   "execution_count": null,
   "id": "9510e1af-5f4e-4437-adeb-8c642a018a7e",
   "metadata": {},
   "outputs": [],
   "source": []
  }
 ],
 "metadata": {
  "kernelspec": {
   "display_name": "Python 3 (ipykernel)",
   "language": "python",
   "name": "python3"
  },
  "language_info": {
   "codemirror_mode": {
    "name": "ipython",
    "version": 3
   },
   "file_extension": ".py",
   "mimetype": "text/x-python",
   "name": "python",
   "nbconvert_exporter": "python",
   "pygments_lexer": "ipython3",
   "version": "3.12.4"
  }
 },
 "nbformat": 4,
 "nbformat_minor": 5
}
