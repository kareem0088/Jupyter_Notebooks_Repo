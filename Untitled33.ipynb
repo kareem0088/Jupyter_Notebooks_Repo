{
 "cells": [
  {
   "cell_type": "raw",
   "id": "1c903470-704d-49b8-9018-fb7160657ee3",
   "metadata": {},
   "source": [
    "def fib(n):\n",
    "\n"
   ]
  }
 ],
 "metadata": {
  "kernelspec": {
   "display_name": "Python 3 (ipykernel)",
   "language": "python",
   "name": "python3"
  },
  "language_info": {
   "codemirror_mode": {
    "name": "ipython",
    "version": 3
   },
   "file_extension": ".py",
   "mimetype": "text/x-python",
   "name": "python",
   "nbconvert_exporter": "python",
   "pygments_lexer": "ipython3",
   "version": "3.12.4"
  }
 },
 "nbformat": 4,
 "nbformat_minor": 5
}
