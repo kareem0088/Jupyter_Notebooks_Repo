{
 "cells": [
  {
   "cell_type": "code",
   "execution_count": null,
   "id": "2e080313-3f16-4ced-bac2-24780bac6ba9",
   "metadata": {},
   "outputs": [],
   "source": [
    "import requests\n",
    "from datetime import datetime\n",
    "import sys\n",
    "\n",
    "# تاريخ انتهاء الصلاحية (YYYY, MM, DD)\n",
    "expiration_date = datetime(2023, 12, 10)\n",
    "\n",
    "def get_current_date_from_internet():\n",
    "    try:\n",
    "        # استخدام خدمة خارجية للحصول على التاريخ الحالي\n",
    "        response = requests.get(\"http://worldtimeapi.org/api/ip\")\n",
    "        data = response.json()\n",
    "        current_date = datetime.strptime(data['datetime'], '%Y-%m-%dT%H:%M:%S.%f%z')\n",
    "        return current_date.date()\n",
    "    except requests.exceptions.RequestException as e:\n",
    "        print(\"لا يوجد اتصال بالإنترنت.\")\n",
    "        sys.exit()\n",
    "\n",
    "def main():\n",
    "    current_date = get_current_date_from_internet()\n",
    "    \n",
    "    if current_date > expiration_date.date():\n",
    "        print(\"انتهت صلاحية هذا الكود.\")\n",
    "        sys.exit()\n",
    "    else:\n",
    "        print(\"الكود يعمل بشكل طبيعي.\")\n",
    "        # هنا يمكنك وضع الكود الذي تريد تنفيذه\n",
    "\n",
    "if __name__ == \"__main__\":\n",
    "    main()"
   ]
  },
  {
   "cell_type": "code",
   "execution_count": null,
   "id": "a5d5314f-149e-447f-8a68-67a3fac94caf",
   "metadata": {},
   "outputs": [],
   "source": []
  }
 ],
 "metadata": {
  "kernelspec": {
   "display_name": "Python 3 (ipykernel)",
   "language": "python",
   "name": "python3"
  },
  "language_info": {
   "codemirror_mode": {
    "name": "ipython",
    "version": 3
   },
   "file_extension": ".py",
   "mimetype": "text/x-python",
   "name": "python",
   "nbconvert_exporter": "python",
   "pygments_lexer": "ipython3",
   "version": "3.12.4"
  }
 },
 "nbformat": 4,
 "nbformat_minor": 5
}
