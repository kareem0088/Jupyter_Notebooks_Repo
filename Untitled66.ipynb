{
 "cells": [
  {
   "cell_type": "code",
   "execution_count": 1,
   "id": "2bcade4e-192e-4e97-b800-04195eb736b9",
   "metadata": {},
   "outputs": [],
   "source": [
    "import numpy as np "
   ]
  },
  {
   "cell_type": "code",
   "execution_count": 2,
   "id": "56a769a8-4aa8-4d1a-82d3-3fa39606c003",
   "metadata": {},
   "outputs": [],
   "source": [
    "price = np.array([1000,2000,3000,4000])"
   ]
  },
  {
   "cell_type": "code",
   "execution_count": 3,
   "id": "19e34453-593f-4c58-8f4c-22f3cece214c",
   "metadata": {},
   "outputs": [
    {
     "name": "stdout",
     "output_type": "stream",
     "text": [
      "[1000 2000 3000 4000]\n"
     ]
    }
   ],
   "source": [
    "print (price)"
   ]
  },
  {
   "cell_type": "code",
   "execution_count": 4,
   "id": "32ab1ea5-f57e-4547-9070-c0f6c6481454",
   "metadata": {},
   "outputs": [
    {
     "name": "stdout",
     "output_type": "stream",
     "text": [
      "1\n"
     ]
    }
   ],
   "source": [
    "print(price.ndim)"
   ]
  },
  {
   "cell_type": "code",
   "execution_count": 5,
   "id": "f7651fbc-c1bc-43a5-b270-3fce001daa5d",
   "metadata": {},
   "outputs": [
    {
     "name": "stdout",
     "output_type": "stream",
     "text": [
      "[[100 105  98 102]\n",
      " [102 107 101 106]\n",
      " [106 110 104 108]\n",
      " [108 112 107 110]]\n"
     ]
    }
   ],
   "source": [
    "import numpy as np\n",
    "\n",
    "# [Open, High, Low, Close]\n",
    "ohlc = np.array([\n",
    "    [100, 105, 98, 102],\n",
    "    [102, 107, 101, 106],\n",
    "    [106, 110, 104, 108],\n",
    "    [108, 112, 107, 110]\n",
    "])\n",
    "\n",
    "print(ohlc)"
   ]
  },
  {
   "cell_type": "code",
   "execution_count": null,
   "id": "3cfcd8b1-439c-495d-b5d6-ccde4a715fc1",
   "metadata": {},
   "outputs": [],
   "source": []
  }
 ],
 "metadata": {
  "kernelspec": {
   "display_name": "Python 3 (ipykernel)",
   "language": "python",
   "name": "python3"
  },
  "language_info": {
   "codemirror_mode": {
    "name": "ipython",
    "version": 3
   },
   "file_extension": ".py",
   "mimetype": "text/x-python",
   "name": "python",
   "nbconvert_exporter": "python",
   "pygments_lexer": "ipython3",
   "version": "3.12.4"
  }
 },
 "nbformat": 4,
 "nbformat_minor": 5
}
