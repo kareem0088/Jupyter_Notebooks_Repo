{
 "cells": [
  {
   "cell_type": "code",
   "execution_count": 3,
   "metadata": {},
   "outputs": [
    {
     "name": "stdout",
     "output_type": "stream",
     "text": [
      "Requirement already satisfied: pandas in c:\\users\\access\\appdata\\local\\programs\\python\\python312\\lib\\site-packages (2.2.2)\n",
      "Requirement already satisfied: yfinance in c:\\users\\access\\appdata\\local\\programs\\python\\python312\\lib\\site-packages (0.2.43)\n",
      "Requirement already satisfied: numpy>=1.26.0 in c:\\users\\access\\appdata\\local\\programs\\python\\python312\\lib\\site-packages (from pandas) (2.1.1)\n",
      "Requirement already satisfied: python-dateutil>=2.8.2 in c:\\users\\access\\appdata\\roaming\\python\\python312\\site-packages (from pandas) (2.9.0.post0)\n",
      "Requirement already satisfied: pytz>=2020.1 in c:\\users\\access\\appdata\\local\\programs\\python\\python312\\lib\\site-packages (from pandas) (2024.2)\n",
      "Requirement already satisfied: tzdata>=2022.7 in c:\\users\\access\\appdata\\local\\programs\\python\\python312\\lib\\site-packages (from pandas) (2024.1)\n",
      "Requirement already satisfied: requests>=2.31 in c:\\users\\access\\appdata\\local\\programs\\python\\python312\\lib\\site-packages (from yfinance) (2.32.3)\n",
      "Requirement already satisfied: multitasking>=0.0.7 in c:\\users\\access\\appdata\\local\\programs\\python\\python312\\lib\\site-packages (from yfinance) (0.0.11)\n",
      "Requirement already satisfied: lxml>=4.9.1 in c:\\users\\access\\appdata\\local\\programs\\python\\python312\\lib\\site-packages (from yfinance) (5.3.0)\n",
      "Requirement already satisfied: platformdirs>=2.0.0 in c:\\users\\access\\appdata\\roaming\\python\\python312\\site-packages (from yfinance) (4.3.3)\n",
      "Requirement already satisfied: frozendict>=2.3.4 in c:\\users\\access\\appdata\\local\\programs\\python\\python312\\lib\\site-packages (from yfinance) (2.4.4)\n",
      "Requirement already satisfied: peewee>=3.16.2 in c:\\users\\access\\appdata\\local\\programs\\python\\python312\\lib\\site-packages (from yfinance) (3.17.6)\n",
      "Requirement already satisfied: beautifulsoup4>=4.11.1 in c:\\users\\access\\appdata\\local\\programs\\python\\python312\\lib\\site-packages (from yfinance) (4.12.3)\n",
      "Requirement already satisfied: html5lib>=1.1 in c:\\users\\access\\appdata\\local\\programs\\python\\python312\\lib\\site-packages (from yfinance) (1.1)\n",
      "Requirement already satisfied: soupsieve>1.2 in c:\\users\\access\\appdata\\local\\programs\\python\\python312\\lib\\site-packages (from beautifulsoup4>=4.11.1->yfinance) (2.6)\n",
      "Requirement already satisfied: six>=1.9 in c:\\users\\access\\appdata\\roaming\\python\\python312\\site-packages (from html5lib>=1.1->yfinance) (1.16.0)\n",
      "Requirement already satisfied: webencodings in c:\\users\\access\\appdata\\local\\programs\\python\\python312\\lib\\site-packages (from html5lib>=1.1->yfinance) (0.5.1)\n",
      "Requirement already satisfied: charset-normalizer<4,>=2 in c:\\users\\access\\appdata\\local\\programs\\python\\python312\\lib\\site-packages (from requests>=2.31->yfinance) (3.3.2)\n",
      "Requirement already satisfied: idna<4,>=2.5 in c:\\users\\access\\appdata\\local\\programs\\python\\python312\\lib\\site-packages (from requests>=2.31->yfinance) (3.10)\n",
      "Requirement already satisfied: urllib3<3,>=1.21.1 in c:\\users\\access\\appdata\\local\\programs\\python\\python312\\lib\\site-packages (from requests>=2.31->yfinance) (2.2.3)\n",
      "Requirement already satisfied: certifi>=2017.4.17 in c:\\users\\access\\appdata\\local\\programs\\python\\python312\\lib\\site-packages (from requests>=2.31->yfinance) (2024.8.30)\n",
      "Note: you may need to restart the kernel to use updated packages.\n"
     ]
    },
    {
     "name": "stderr",
     "output_type": "stream",
     "text": [
      "\n",
      "[notice] A new release of pip is available: 24.0 -> 24.2\n",
      "[notice] To update, run: python.exe -m pip install --upgrade pip\n"
     ]
    }
   ],
   "source": [
    "pip install pandas yfinance pandas_ta "
   ]
  },
  {
   "cell_type": "code",
   "execution_count": 7,
   "metadata": {},
   "outputs": [],
   "source": [
    "import pandas as pd\n",
    "df = pd.read_csv(r\"C:\\Users\\Access\\Downloads\\EURUSD_Candlestick_5_M_BID_14.08.2024-14.09.2024.csv\")"
   ]
  },
  {
   "cell_type": "code",
   "execution_count": 8,
   "metadata": {},
   "outputs": [
    {
     "data": {
      "text/html": [
       "<div>\n",
       "<style scoped>\n",
       "    .dataframe tbody tr th:only-of-type {\n",
       "        vertical-align: middle;\n",
       "    }\n",
       "\n",
       "    .dataframe tbody tr th {\n",
       "        vertical-align: top;\n",
       "    }\n",
       "\n",
       "    .dataframe thead th {\n",
       "        text-align: right;\n",
       "    }\n",
       "</style>\n",
       "<table border=\"1\" class=\"dataframe\">\n",
       "  <thead>\n",
       "    <tr style=\"text-align: right;\">\n",
       "      <th></th>\n",
       "      <th>Gmt time</th>\n",
       "      <th>Open</th>\n",
       "      <th>High</th>\n",
       "      <th>Low</th>\n",
       "      <th>Close</th>\n",
       "      <th>Volume</th>\n",
       "    </tr>\n",
       "  </thead>\n",
       "  <tbody>\n",
       "    <tr>\n",
       "      <th>0</th>\n",
       "      <td>14.08.2024 00:00:00.000</td>\n",
       "      <td>1.09958</td>\n",
       "      <td>1.09971</td>\n",
       "      <td>1.09940</td>\n",
       "      <td>1.09944</td>\n",
       "      <td>1037.30</td>\n",
       "    </tr>\n",
       "    <tr>\n",
       "      <th>1</th>\n",
       "      <td>14.08.2024 00:05:00.000</td>\n",
       "      <td>1.09945</td>\n",
       "      <td>1.09961</td>\n",
       "      <td>1.09944</td>\n",
       "      <td>1.09954</td>\n",
       "      <td>840.44</td>\n",
       "    </tr>\n",
       "    <tr>\n",
       "      <th>2</th>\n",
       "      <td>14.08.2024 00:10:00.000</td>\n",
       "      <td>1.09954</td>\n",
       "      <td>1.09961</td>\n",
       "      <td>1.09953</td>\n",
       "      <td>1.09954</td>\n",
       "      <td>885.85</td>\n",
       "    </tr>\n",
       "    <tr>\n",
       "      <th>3</th>\n",
       "      <td>14.08.2024 00:15:00.000</td>\n",
       "      <td>1.09954</td>\n",
       "      <td>1.09964</td>\n",
       "      <td>1.09940</td>\n",
       "      <td>1.09959</td>\n",
       "      <td>533.61</td>\n",
       "    </tr>\n",
       "    <tr>\n",
       "      <th>4</th>\n",
       "      <td>14.08.2024 00:20:00.000</td>\n",
       "      <td>1.09957</td>\n",
       "      <td>1.09962</td>\n",
       "      <td>1.09946</td>\n",
       "      <td>1.09956</td>\n",
       "      <td>632.56</td>\n",
       "    </tr>\n",
       "    <tr>\n",
       "      <th>...</th>\n",
       "      <td>...</td>\n",
       "      <td>...</td>\n",
       "      <td>...</td>\n",
       "      <td>...</td>\n",
       "      <td>...</td>\n",
       "      <td>...</td>\n",
       "    </tr>\n",
       "    <tr>\n",
       "      <th>9175</th>\n",
       "      <td>14.09.2024 23:35:00.000</td>\n",
       "      <td>1.10732</td>\n",
       "      <td>1.10732</td>\n",
       "      <td>1.10732</td>\n",
       "      <td>1.10732</td>\n",
       "      <td>0.00</td>\n",
       "    </tr>\n",
       "    <tr>\n",
       "      <th>9176</th>\n",
       "      <td>14.09.2024 23:40:00.000</td>\n",
       "      <td>1.10732</td>\n",
       "      <td>1.10732</td>\n",
       "      <td>1.10732</td>\n",
       "      <td>1.10732</td>\n",
       "      <td>0.00</td>\n",
       "    </tr>\n",
       "    <tr>\n",
       "      <th>9177</th>\n",
       "      <td>14.09.2024 23:45:00.000</td>\n",
       "      <td>1.10732</td>\n",
       "      <td>1.10732</td>\n",
       "      <td>1.10732</td>\n",
       "      <td>1.10732</td>\n",
       "      <td>0.00</td>\n",
       "    </tr>\n",
       "    <tr>\n",
       "      <th>9178</th>\n",
       "      <td>14.09.2024 23:50:00.000</td>\n",
       "      <td>1.10732</td>\n",
       "      <td>1.10732</td>\n",
       "      <td>1.10732</td>\n",
       "      <td>1.10732</td>\n",
       "      <td>0.00</td>\n",
       "    </tr>\n",
       "    <tr>\n",
       "      <th>9179</th>\n",
       "      <td>14.09.2024 23:55:00.000</td>\n",
       "      <td>1.10732</td>\n",
       "      <td>1.10732</td>\n",
       "      <td>1.10732</td>\n",
       "      <td>1.10732</td>\n",
       "      <td>0.00</td>\n",
       "    </tr>\n",
       "  </tbody>\n",
       "</table>\n",
       "<p>9180 rows × 6 columns</p>\n",
       "</div>"
      ],
      "text/plain": [
       "                     Gmt time     Open     High      Low    Close   Volume\n",
       "0     14.08.2024 00:00:00.000  1.09958  1.09971  1.09940  1.09944  1037.30\n",
       "1     14.08.2024 00:05:00.000  1.09945  1.09961  1.09944  1.09954   840.44\n",
       "2     14.08.2024 00:10:00.000  1.09954  1.09961  1.09953  1.09954   885.85\n",
       "3     14.08.2024 00:15:00.000  1.09954  1.09964  1.09940  1.09959   533.61\n",
       "4     14.08.2024 00:20:00.000  1.09957  1.09962  1.09946  1.09956   632.56\n",
       "...                       ...      ...      ...      ...      ...      ...\n",
       "9175  14.09.2024 23:35:00.000  1.10732  1.10732  1.10732  1.10732     0.00\n",
       "9176  14.09.2024 23:40:00.000  1.10732  1.10732  1.10732  1.10732     0.00\n",
       "9177  14.09.2024 23:45:00.000  1.10732  1.10732  1.10732  1.10732     0.00\n",
       "9178  14.09.2024 23:50:00.000  1.10732  1.10732  1.10732  1.10732     0.00\n",
       "9179  14.09.2024 23:55:00.000  1.10732  1.10732  1.10732  1.10732     0.00\n",
       "\n",
       "[9180 rows x 6 columns]"
      ]
     },
     "execution_count": 8,
     "metadata": {},
     "output_type": "execute_result"
    }
   ],
   "source": [
    "df"
   ]
  },
  {
   "cell_type": "code",
   "execution_count": 17,
   "metadata": {},
   "outputs": [
    {
     "data": {
      "text/html": [
       "<div>\n",
       "<style scoped>\n",
       "    .dataframe tbody tr th:only-of-type {\n",
       "        vertical-align: middle;\n",
       "    }\n",
       "\n",
       "    .dataframe tbody tr th {\n",
       "        vertical-align: top;\n",
       "    }\n",
       "\n",
       "    .dataframe thead th {\n",
       "        text-align: right;\n",
       "    }\n",
       "</style>\n",
       "<table border=\"1\" class=\"dataframe\">\n",
       "  <thead>\n",
       "    <tr style=\"text-align: right;\">\n",
       "      <th></th>\n",
       "      <th>index</th>\n",
       "      <th>Gmt time</th>\n",
       "      <th>Open</th>\n",
       "      <th>High</th>\n",
       "      <th>Low</th>\n",
       "      <th>Close</th>\n",
       "      <th>Volume</th>\n",
       "    </tr>\n",
       "  </thead>\n",
       "  <tbody>\n",
       "    <tr>\n",
       "      <th>0</th>\n",
       "      <td>0</td>\n",
       "      <td>14.08.2024 00:00:00.000</td>\n",
       "      <td>1.09958</td>\n",
       "      <td>1.09971</td>\n",
       "      <td>1.09940</td>\n",
       "      <td>1.09944</td>\n",
       "      <td>1037.30</td>\n",
       "    </tr>\n",
       "    <tr>\n",
       "      <th>1</th>\n",
       "      <td>1</td>\n",
       "      <td>14.08.2024 00:05:00.000</td>\n",
       "      <td>1.09945</td>\n",
       "      <td>1.09961</td>\n",
       "      <td>1.09944</td>\n",
       "      <td>1.09954</td>\n",
       "      <td>840.44</td>\n",
       "    </tr>\n",
       "    <tr>\n",
       "      <th>2</th>\n",
       "      <td>2</td>\n",
       "      <td>14.08.2024 00:10:00.000</td>\n",
       "      <td>1.09954</td>\n",
       "      <td>1.09961</td>\n",
       "      <td>1.09953</td>\n",
       "      <td>1.09954</td>\n",
       "      <td>885.85</td>\n",
       "    </tr>\n",
       "    <tr>\n",
       "      <th>3</th>\n",
       "      <td>3</td>\n",
       "      <td>14.08.2024 00:15:00.000</td>\n",
       "      <td>1.09954</td>\n",
       "      <td>1.09964</td>\n",
       "      <td>1.09940</td>\n",
       "      <td>1.09959</td>\n",
       "      <td>533.61</td>\n",
       "    </tr>\n",
       "    <tr>\n",
       "      <th>4</th>\n",
       "      <td>4</td>\n",
       "      <td>14.08.2024 00:20:00.000</td>\n",
       "      <td>1.09957</td>\n",
       "      <td>1.09962</td>\n",
       "      <td>1.09946</td>\n",
       "      <td>1.09956</td>\n",
       "      <td>632.56</td>\n",
       "    </tr>\n",
       "    <tr>\n",
       "      <th>...</th>\n",
       "      <td>...</td>\n",
       "      <td>...</td>\n",
       "      <td>...</td>\n",
       "      <td>...</td>\n",
       "      <td>...</td>\n",
       "      <td>...</td>\n",
       "      <td>...</td>\n",
       "    </tr>\n",
       "    <tr>\n",
       "      <th>9175</th>\n",
       "      <td>9175</td>\n",
       "      <td>14.09.2024 23:35:00.000</td>\n",
       "      <td>1.10732</td>\n",
       "      <td>1.10732</td>\n",
       "      <td>1.10732</td>\n",
       "      <td>1.10732</td>\n",
       "      <td>0.00</td>\n",
       "    </tr>\n",
       "    <tr>\n",
       "      <th>9176</th>\n",
       "      <td>9176</td>\n",
       "      <td>14.09.2024 23:40:00.000</td>\n",
       "      <td>1.10732</td>\n",
       "      <td>1.10732</td>\n",
       "      <td>1.10732</td>\n",
       "      <td>1.10732</td>\n",
       "      <td>0.00</td>\n",
       "    </tr>\n",
       "    <tr>\n",
       "      <th>9177</th>\n",
       "      <td>9177</td>\n",
       "      <td>14.09.2024 23:45:00.000</td>\n",
       "      <td>1.10732</td>\n",
       "      <td>1.10732</td>\n",
       "      <td>1.10732</td>\n",
       "      <td>1.10732</td>\n",
       "      <td>0.00</td>\n",
       "    </tr>\n",
       "    <tr>\n",
       "      <th>9178</th>\n",
       "      <td>9178</td>\n",
       "      <td>14.09.2024 23:50:00.000</td>\n",
       "      <td>1.10732</td>\n",
       "      <td>1.10732</td>\n",
       "      <td>1.10732</td>\n",
       "      <td>1.10732</td>\n",
       "      <td>0.00</td>\n",
       "    </tr>\n",
       "    <tr>\n",
       "      <th>9179</th>\n",
       "      <td>9179</td>\n",
       "      <td>14.09.2024 23:55:00.000</td>\n",
       "      <td>1.10732</td>\n",
       "      <td>1.10732</td>\n",
       "      <td>1.10732</td>\n",
       "      <td>1.10732</td>\n",
       "      <td>0.00</td>\n",
       "    </tr>\n",
       "  </tbody>\n",
       "</table>\n",
       "<p>9180 rows × 7 columns</p>\n",
       "</div>"
      ],
      "text/plain": [
       "      index                 Gmt time     Open     High      Low    Close  \\\n",
       "0         0  14.08.2024 00:00:00.000  1.09958  1.09971  1.09940  1.09944   \n",
       "1         1  14.08.2024 00:05:00.000  1.09945  1.09961  1.09944  1.09954   \n",
       "2         2  14.08.2024 00:10:00.000  1.09954  1.09961  1.09953  1.09954   \n",
       "3         3  14.08.2024 00:15:00.000  1.09954  1.09964  1.09940  1.09959   \n",
       "4         4  14.08.2024 00:20:00.000  1.09957  1.09962  1.09946  1.09956   \n",
       "...     ...                      ...      ...      ...      ...      ...   \n",
       "9175   9175  14.09.2024 23:35:00.000  1.10732  1.10732  1.10732  1.10732   \n",
       "9176   9176  14.09.2024 23:40:00.000  1.10732  1.10732  1.10732  1.10732   \n",
       "9177   9177  14.09.2024 23:45:00.000  1.10732  1.10732  1.10732  1.10732   \n",
       "9178   9178  14.09.2024 23:50:00.000  1.10732  1.10732  1.10732  1.10732   \n",
       "9179   9179  14.09.2024 23:55:00.000  1.10732  1.10732  1.10732  1.10732   \n",
       "\n",
       "       Volume  \n",
       "0     1037.30  \n",
       "1      840.44  \n",
       "2      885.85  \n",
       "3      533.61  \n",
       "4      632.56  \n",
       "...       ...  \n",
       "9175     0.00  \n",
       "9176     0.00  \n",
       "9177     0.00  \n",
       "9178     0.00  \n",
       "9179     0.00  \n",
       "\n",
       "[9180 rows x 7 columns]"
      ]
     },
     "execution_count": 18,
     "metadata": {},
     "output_type": "execute_result"
    }
   ],
   "source": [
    "df"
   ]
  },
  {
   "cell_type": "code",
   "execution_count": 29,
   "metadata": {},
   "outputs": [
    {
     "name": "stdout",
     "output_type": "stream",
     "text": [
      "Requirement already satisfied: pandas-ta in c:\\users\\access\\appdata\\local\\programs\\python\\python312\\lib\\site-packages (0.3.14b0)\n",
      "Requirement already satisfied: pandas in c:\\users\\access\\appdata\\local\\programs\\python\\python312\\lib\\site-packages (from pandas-ta) (2.2.2)\n",
      "Requirement already satisfied: numpy>=1.26.0 in c:\\users\\access\\appdata\\local\\programs\\python\\python312\\lib\\site-packages (from pandas->pandas-ta) (2.1.1)\n",
      "Requirement already satisfied: python-dateutil>=2.8.2 in c:\\users\\access\\appdata\\roaming\\python\\python312\\site-packages (from pandas->pandas-ta) (2.9.0.post0)\n",
      "Requirement already satisfied: pytz>=2020.1 in c:\\users\\access\\appdata\\local\\programs\\python\\python312\\lib\\site-packages (from pandas->pandas-ta) (2024.2)\n",
      "Requirement already satisfied: tzdata>=2022.7 in c:\\users\\access\\appdata\\local\\programs\\python\\python312\\lib\\site-packages (from pandas->pandas-ta) (2024.1)\n",
      "Requirement already satisfied: six>=1.5 in c:\\users\\access\\appdata\\roaming\\python\\python312\\site-packages (from python-dateutil>=2.8.2->pandas->pandas-ta) (1.16.0)\n",
      "Note: you may need to restart the kernel to use updated packages.\n"
     ]
    },
    {
     "name": "stderr",
     "output_type": "stream",
     "text": [
      "\n",
      "[notice] A new release of pip is available: 24.0 -> 24.2\n",
      "[notice] To update, run: python.exe -m pip install --upgrade pip\n"
     ]
    }
   ],
   "source": [
    "pip install pandas-ta"
   ]
  },
  {
   "cell_type": "code",
   "execution_count": 37,
   "metadata": {},
   "outputs": [
    {
     "ename": "SyntaxError",
     "evalue": "invalid syntax (2872952461.py, line 1)",
     "output_type": "error",
     "traceback": [
      "\u001b[1;36m  Cell \u001b[1;32mIn[37], line 1\u001b[1;36m\u001b[0m\n\u001b[1;33m    python -c \"import numpy; print(numpy.__version__)\"\u001b[0m\n\u001b[1;37m              ^\u001b[0m\n\u001b[1;31mSyntaxError\u001b[0m\u001b[1;31m:\u001b[0m invalid syntax\n"
     ]
    }
   ],
   "source": [
    "python -c \"import numpy; print(numpy.__version__)\"\n",
    "python -c \"import pandas_ta; print(pandas_ta.__version__)\"\n"
   ]
  },
  {
   "cell_type": "code",
   "execution_count": 38,
   "metadata": {},
   "outputs": [
    {
     "ename": "SyntaxError",
     "evalue": "invalid syntax (3617651070.py, line 1)",
     "output_type": "error",
     "traceback": [
      "\u001b[1;36m  Cell \u001b[1;32mIn[38], line 1\u001b[1;36m\u001b[0m\n\u001b[1;33m    python -m venv myenv\u001b[0m\n\u001b[1;37m              ^\u001b[0m\n\u001b[1;31mSyntaxError\u001b[0m\u001b[1;31m:\u001b[0m invalid syntax\n"
     ]
    }
   ],
   "source": [
    "python -m venv myenv\n",
    "source myenv/bin/activate  # على لينكس/ماك\n",
    "myenv\\Scripts\\activate  # على ويندوز\n",
    "pip install numpy pandas-ta pandas\n"
   ]
  },
  {
   "cell_type": "code",
   "execution_count": 42,
   "metadata": {},
   "outputs": [
    {
     "name": "stdout",
     "output_type": "stream",
     "text": [
      "Requirement already satisfied: numpy in c:\\users\\access\\appdata\\local\\programs\\python\\python312\\lib\\site-packages (2.1.1)\n",
      "Note: you may need to restart the kernel to use updated packages.\n"
     ]
    },
    {
     "name": "stderr",
     "output_type": "stream",
     "text": [
      "\n",
      "[notice] A new release of pip is available: 24.0 -> 24.2\n",
      "[notice] To update, run: python.exe -m pip install --upgrade pip\n"
     ]
    }
   ],
   "source": [
    "pip install numpy\n"
   ]
  },
  {
   "cell_type": "code",
   "execution_count": 43,
   "metadata": {},
   "outputs": [
    {
     "name": "stdout",
     "output_type": "stream",
     "text": [
      "Requirement already satisfied: pandas_ta in c:\\users\\access\\appdata\\local\\programs\\python\\python312\\lib\\site-packages (0.3.14b0)\n",
      "Requirement already satisfied: pandas in c:\\users\\access\\appdata\\local\\programs\\python\\python312\\lib\\site-packages (from pandas_ta) (2.2.2)\n",
      "Requirement already satisfied: numpy>=1.26.0 in c:\\users\\access\\appdata\\local\\programs\\python\\python312\\lib\\site-packages (from pandas->pandas_ta) (2.1.1)\n",
      "Requirement already satisfied: python-dateutil>=2.8.2 in c:\\users\\access\\appdata\\roaming\\python\\python312\\site-packages (from pandas->pandas_ta) (2.9.0.post0)\n",
      "Requirement already satisfied: pytz>=2020.1 in c:\\users\\access\\appdata\\local\\programs\\python\\python312\\lib\\site-packages (from pandas->pandas_ta) (2024.2)\n",
      "Requirement already satisfied: tzdata>=2022.7 in c:\\users\\access\\appdata\\local\\programs\\python\\python312\\lib\\site-packages (from pandas->pandas_ta) (2024.1)\n",
      "Requirement already satisfied: six>=1.5 in c:\\users\\access\\appdata\\roaming\\python\\python312\\site-packages (from python-dateutil>=2.8.2->pandas->pandas_ta) (1.16.0)\n",
      "Note: you may need to restart the kernel to use updated packages.\n"
     ]
    },
    {
     "name": "stderr",
     "output_type": "stream",
     "text": [
      "\n",
      "[notice] A new release of pip is available: 24.0 -> 24.2\n",
      "[notice] To update, run: python.exe -m pip install --upgrade pip\n"
     ]
    }
   ],
   "source": [
    "pip install pandas_ta\n"
   ]
  },
  {
   "cell_type": "code",
   "execution_count": 31,
   "metadata": {},
   "outputs": [
    {
     "name": "stdout",
     "output_type": "stream",
     "text": [
      "Collecting setuptools\n",
      "  Using cached setuptools-75.1.0-py3-none-any.whl.metadata (6.9 kB)\n",
      "Using cached setuptools-75.1.0-py3-none-any.whl (1.2 MB)\n",
      "Installing collected packages: setuptools\n",
      "Successfully installed setuptools-75.1.0\n",
      "Note: you may need to restart the kernel to use updated packages.\n"
     ]
    },
    {
     "name": "stderr",
     "output_type": "stream",
     "text": [
      "ERROR: pip's dependency resolver does not currently take into account all the packages that are installed. This behaviour is the source of the following dependency conflicts.\n",
      "tensorboard 2.17.1 requires markdown>=2.6.8, which is not installed.\n",
      "tensorboard 2.17.1 requires protobuf!=4.24.0,>=3.19.6, which is not installed.\n",
      "tensorboard 2.17.1 requires werkzeug>=1.0.1, which is not installed.\n",
      "tensorflow-intel 2.17.0 requires h5py>=3.10.0, which is not installed.\n",
      "tensorflow-intel 2.17.0 requires protobuf!=4.21.0,!=4.21.1,!=4.21.2,!=4.21.3,!=4.21.4,!=4.21.5,<5.0.0dev,>=3.20.3, which is not installed.\n",
      "tensorflow-intel 2.17.0 requires typing-extensions>=3.6.6, which is not installed.\n",
      "tensorflow-intel 2.17.0 requires wrapt>=1.11.0, which is not installed.\n",
      "tensorflow-intel 2.17.0 requires numpy<2.0.0,>=1.26.0; python_version >= \"3.12\", but you have numpy 2.1.1 which is incompatible.\n",
      "\n",
      "[notice] A new release of pip is available: 24.0 -> 24.2\n",
      "[notice] To update, run: python.exe -m pip install --upgrade pip\n"
     ]
    }
   ],
   "source": [
    "pip install setuptools\n"
   ]
  },
  {
   "cell_type": "code",
   "execution_count": 45,
   "metadata": {},
   "outputs": [
    {
     "name": "stdout",
     "output_type": "stream",
     "text": [
      "Requirement already satisfied: numpy in c:\\users\\access\\appdata\\local\\programs\\python\\python312\\lib\\site-packages (2.1.1)Note: you may need to restart the kernel to use updated packages.\n",
      "\n",
      "Requirement already satisfied: pandas in c:\\users\\access\\appdata\\local\\programs\\python\\python312\\lib\\site-packages (2.2.2)\n",
      "Requirement already satisfied: pandas_ta in c:\\users\\access\\appdata\\local\\programs\\python\\python312\\lib\\site-packages (0.3.14b0)\n",
      "Requirement already satisfied: python-dateutil>=2.8.2 in c:\\users\\access\\appdata\\roaming\\python\\python312\\site-packages (from pandas) (2.9.0.post0)\n",
      "Requirement already satisfied: pytz>=2020.1 in c:\\users\\access\\appdata\\local\\programs\\python\\python312\\lib\\site-packages (from pandas) (2024.2)\n",
      "Requirement already satisfied: tzdata>=2022.7 in c:\\users\\access\\appdata\\local\\programs\\python\\python312\\lib\\site-packages (from pandas) (2024.1)\n",
      "Requirement already satisfied: six>=1.5 in c:\\users\\access\\appdata\\roaming\\python\\python312\\site-packages (from python-dateutil>=2.8.2->pandas) (1.16.0)\n"
     ]
    },
    {
     "name": "stderr",
     "output_type": "stream",
     "text": [
      "\n",
      "[notice] A new release of pip is available: 24.0 -> 24.2\n",
      "[notice] To update, run: python.exe -m pip install --upgrade pip\n"
     ]
    }
   ],
   "source": [
    "pip install numpy pandas pandas_ta"
   ]
  },
  {
   "cell_type": "code",
   "execution_count": 10,
   "metadata": {},
   "outputs": [
    {
     "ename": "SyntaxError",
     "evalue": "invalid syntax (53552347.py, line 1)",
     "output_type": "error",
     "traceback": [
      "\u001b[1;36m  Cell \u001b[1;32mIn[10], line 1\u001b[1;36m\u001b[0m\n\u001b[1;33m    pip install numpy-main\u001b[0m\n\u001b[1;37m        ^\u001b[0m\n\u001b[1;31mSyntaxError\u001b[0m\u001b[1;31m:\u001b[0m invalid syntax\n"
     ]
    }
   ],
   "source": [
    "pip install numpy-main\n",
    "\n"
   ]
  },
  {
   "cell_type": "code",
   "execution_count": 1,
   "metadata": {},
   "outputs": [
    {
     "ename": "ModuleNotFoundError",
     "evalue": "No module named 'pkg_resources'",
     "output_type": "error",
     "traceback": [
      "\u001b[1;31m---------------------------------------------------------------------------\u001b[0m",
      "\u001b[1;31mModuleNotFoundError\u001b[0m                       Traceback (most recent call last)",
      "Cell \u001b[1;32mIn[1], line 1\u001b[0m\n\u001b[1;32m----> 1\u001b[0m \u001b[38;5;28;01mimport\u001b[39;00m \u001b[38;5;21;01mpandas_ta\u001b[39;00m \u001b[38;5;28;01mas\u001b[39;00m \u001b[38;5;21;01mta\u001b[39;00m\n\u001b[0;32m      2\u001b[0m \u001b[38;5;28;01mimport\u001b[39;00m \u001b[38;5;21;01mpandas\u001b[39;00m \u001b[38;5;28;01mas\u001b[39;00m \u001b[38;5;21;01mpd\u001b[39;00m\n\u001b[0;32m      4\u001b[0m \u001b[38;5;66;03m# افتراض أن df يحتوي على عمود 'Close' بالفعل\u001b[39;00m\n",
      "File \u001b[1;32m~\\AppData\\Local\\Packages\\PythonSoftwareFoundation.Python.3.12_qbz5n2kfra8p0\\LocalCache\\local-packages\\Python312\\site-packages\\pandas_ta\\__init__.py:7\u001b[0m\n\u001b[0;32m      5\u001b[0m \u001b[38;5;28;01mfrom\u001b[39;00m \u001b[38;5;21;01mimportlib\u001b[39;00m\u001b[38;5;21;01m.\u001b[39;00m\u001b[38;5;21;01mutil\u001b[39;00m \u001b[38;5;28;01mimport\u001b[39;00m find_spec\n\u001b[0;32m      6\u001b[0m \u001b[38;5;28;01mfrom\u001b[39;00m \u001b[38;5;21;01mpathlib\u001b[39;00m \u001b[38;5;28;01mimport\u001b[39;00m Path\n\u001b[1;32m----> 7\u001b[0m \u001b[38;5;28;01mfrom\u001b[39;00m \u001b[38;5;21;01mpkg_resources\u001b[39;00m \u001b[38;5;28;01mimport\u001b[39;00m get_distribution, DistributionNotFound\n\u001b[0;32m     10\u001b[0m _dist \u001b[38;5;241m=\u001b[39m get_distribution(\u001b[38;5;124m\"\u001b[39m\u001b[38;5;124mpandas_ta\u001b[39m\u001b[38;5;124m\"\u001b[39m)\n\u001b[0;32m     11\u001b[0m \u001b[38;5;28;01mtry\u001b[39;00m:\n\u001b[0;32m     12\u001b[0m     \u001b[38;5;66;03m# Normalize case for Windows systems\u001b[39;00m\n",
      "\u001b[1;31mModuleNotFoundError\u001b[0m: No module named 'pkg_resources'"
     ]
    }
   ],
   "source": [
    "import pandas_ta as ta\n",
    "import pandas as pd\n",
    "\n",
    "# افتراض أن df يحتوي على عمود 'Close' بالفعل\n",
    "df['EMA_10'] = ta.ema(df['Close'], length=10)\n",
    "df['RSI_10'] = ta.rsi(df['Close'], length=10)"
   ]
  },
  {
   "cell_type": "markdown",
   "metadata": {},
   "source": []
  },
  {
   "cell_type": "markdown",
   "metadata": {},
   "source": []
  },
  {
   "cell_type": "markdown",
   "metadata": {},
   "source": []
  }
 ],
 "metadata": {
  "kernelspec": {
   "display_name": "Python 3",
   "language": "python",
   "name": "python3"
  },
  "language_info": {
   "codemirror_mode": {
    "name": "ipython",
    "version": 3
   },
   "file_extension": ".py",
   "mimetype": "text/x-python",
   "name": "python",
   "nbconvert_exporter": "python",
   "pygments_lexer": "ipython3",
   "version": "3.12.6"
  }
 },
 "nbformat": 4,
 "nbformat_minor": 2
}
