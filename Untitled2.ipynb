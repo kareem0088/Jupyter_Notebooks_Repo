{
 "cells": [
  {
   "cell_type": "code",
   "execution_count": 1,
   "id": "e0201bbb-1405-4ae2-bf0b-06d68b8ef277",
   "metadata": {},
   "outputs": [],
   "source": [
    "class oop:\n",
    "    name = \"karim\"\n",
    "    pass\n",
    "    "
   ]
  },
  {
   "cell_type": "code",
   "execution_count": 14,
   "id": "8f6c8261-dbe1-48ac-b7f2-4a95527bc0ae",
   "metadata": {},
   "outputs": [
    {
     "name": "stdout",
     "output_type": "stream",
     "text": [
      "karim h\n"
     ]
    }
   ],
   "source": [
    "print(oop.name,\"h\")"
   ]
  },
  {
   "cell_type": "code",
   "execution_count": null,
   "id": "14fe17d1-a9e8-45c7-91be-b24a3762ed13",
   "metadata": {},
   "outputs": [],
   "source": []
  },
  {
   "cell_type": "code",
   "execution_count": null,
   "id": "460b8176-d10f-4288-8c18-ff76d3ae45b8",
   "metadata": {},
   "outputs": [],
   "source": []
  }
 ],
 "metadata": {
  "kernelspec": {
   "display_name": "Python 3 (ipykernel)",
   "language": "python",
   "name": "python3"
  },
  "language_info": {
   "codemirror_mode": {
    "name": "ipython",
    "version": 3
   },
   "file_extension": ".py",
   "mimetype": "text/x-python",
   "name": "python",
   "nbconvert_exporter": "python",
   "pygments_lexer": "ipython3",
   "version": "3.12.4"
  }
 },
 "nbformat": 4,
 "nbformat_minor": 5
}
