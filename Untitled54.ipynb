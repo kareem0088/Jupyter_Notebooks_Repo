{
 "cells": [
  {
   "cell_type": "code",
   "execution_count": 1,
   "id": "23bb87b0-439d-42e4-b225-4b86b333cc80",
   "metadata": {},
   "outputs": [
    {
     "name": "stdout",
     "output_type": "stream",
     "text": [
      "Lot Size: 0.58\n"
     ]
    }
   ],
   "source": [
    "def calculate_lot_size(entry_price, stop_loss_price, risk_amount, contract_size=100):\n",
    "    \n",
    "    # Calculate the difference between entry price and stop loss price\n",
    "    price_difference = abs(entry_price - stop_loss_price)\n",
    "    \n",
    "    # Calculate the lot size\n",
    "    lot_size = risk_amount / (price_difference * contract_size) \n",
    "    \n",
    "    return lot_size\n",
    "'''\n",
    "(1000 * 1)/100 = 10 \n",
    "\n",
    "(balance*risk_percentage)/100 = risk_amount\n",
    "'''\n",
    "# Example usage\n",
    "entry_price = 1518.708  # Example entry price\n",
    "stop_loss_price = 1518.5365  # Example stop loss price\n",
    "#risk_amount = 10  # Risk amount in USD\n",
    "risk_amount = (1000 * 1)/100 \n",
    "\n",
    "lot_size = calculate_lot_size(entry_price, stop_loss_price, risk_amount)\n",
    "print(f\"Lot Size: {lot_size:.2f}\")"
   ]
  },
  {
   "cell_type": "code",
   "execution_count": null,
   "id": "aac5dcba-029c-4e5f-a8ba-3987206d6451",
   "metadata": {},
   "outputs": [],
   "source": [
    "x=0.58 , "
   ]
  }
 ],
 "metadata": {
  "kernelspec": {
   "display_name": "Python 3 (ipykernel)",
   "language": "python",
   "name": "python3"
  },
  "language_info": {
   "codemirror_mode": {
    "name": "ipython",
    "version": 3
   },
   "file_extension": ".py",
   "mimetype": "text/x-python",
   "name": "python",
   "nbconvert_exporter": "python",
   "pygments_lexer": "ipython3",
   "version": "3.12.4"
  }
 },
 "nbformat": 4,
 "nbformat_minor": 5
}
