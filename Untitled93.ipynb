{
 "cells": [
  {
   "cell_type": "code",
   "execution_count": null,
   "id": "51fba057-7732-4306-8c30-ed443247a464",
   "metadata": {},
   "outputs": [],
   "source": [
    "import cv2\n",
    "import os\n",
    "\n",
    "# مجلد الصور الأصلية\n",
    "input_dir = r\"C:\\Users\\Access\\Documents\\crack\"\n",
    "\n",
    "# مجلدات الإخراج\n",
    "enhanced_dir = r\"C:\\Users\\Access\\Documents\\crack\\enhanced\"  \n",
    "edges_dir = r\"C:\\Users\\Access\\Documents\\crack\\edges\"   \n",
    "\n",
    "# إنشاء المجلدات إذا لم تكن موجودة\n",
    "os.makedirs(enhanced_dir, exist_ok=True)\n",
    "os.makedirs(edges_dir, exist_ok=True)\n",
    "\n",
    "# معالجة الصور\n",
    "for filename in os.listdir(input_dir):\n",
    "    if filename.lower().endswith(('.jpg', '.jpeg', '.png')):\n",
    "        image_path = os.path.join(input_dir, filename)\n",
    "        image = cv2.imread(image_path)\n",
    "\n",
    "        if image is None:\n",
    "            print(f\"❌ تعذر تحميل الصورة: {filename}\")\n",
    "            continue\n",
    "\n",
    "        # رمادي\n",
    "        gray = cv2.cvtColor(image, cv2.COLOR_BGR2GRAY)\n",
    "\n",
    "        # تحسين التباين\n",
    "        clahe = cv2.createCLAHE(clipLimit=2.0, tileGridSize=(8, 8))\n",
    "        enhanced = clahe.apply(gray)\n",
    "\n",
    "        # كشف الحواف\n",
    "        edges = cv2.Canny(enhanced, 50, 150)\n",
    "\n",
    "        # حفظ النتائج\n",
    "        cv2.imwrite(os.path.join(enhanced_dir, filename), enhanced)\n",
    "        cv2.imwrite(os.path.join(edges_dir, filename), edges)\n",
    "\n",
    "        print(f\"✔ تم حفظ معالجة الصورة: {filename}\")\n"
   ]
  }
 ],
 "metadata": {
  "kernelspec": {
   "display_name": "Python 3 (ipykernel)",
   "language": "python",
   "name": "python3"
  },
  "language_info": {
   "codemirror_mode": {
    "name": "ipython",
    "version": 3
   },
   "file_extension": ".py",
   "mimetype": "text/x-python",
   "name": "python",
   "nbconvert_exporter": "python",
   "pygments_lexer": "ipython3",
   "version": "3.13.5"
  },
  "widgets": {
   "application/vnd.jupyter.widget-state+json": {
    "state": {},
    "version_major": 2,
    "version_minor": 0
   }
  }
 },
 "nbformat": 4,
 "nbformat_minor": 5
}
