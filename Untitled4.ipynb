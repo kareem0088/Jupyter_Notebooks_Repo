{
 "cells": [
  {
   "cell_type": "code",
   "execution_count": 1,
   "id": "7810aad9-8c05-4548-8c11-84791642a1f5",
   "metadata": {},
   "outputs": [
    {
     "name": "stdout",
     "output_type": "stream",
     "text": [
      "Defaulting to user installation because normal site-packages is not writeable\n",
      "Collecting git+https://github.com/rongardF/tvdatafeed.git\n",
      "  Cloning https://github.com/rongardF/tvdatafeed.git to c:\\users\\access\\appdata\\local\\temp\\pip-req-build-4npss17b\n",
      "  Resolved https://github.com/rongardF/tvdatafeed.git to commit e6f6aaa7de439ac6e454d9b26d2760ded8dc4923\n",
      "  Preparing metadata (setup.py): started\n",
      "  Preparing metadata (setup.py): finished with status 'done'\n",
      "Requirement already satisfied: setuptools in c:\\programdata\\anaconda3\\lib\\site-packages (from tvdatafeed==2.1.0) (69.5.1)\n",
      "Requirement already satisfied: pandas in c:\\programdata\\anaconda3\\lib\\site-packages (from tvdatafeed==2.1.0) (2.2.2)\n",
      "Requirement already satisfied: websocket-client in c:\\programdata\\anaconda3\\lib\\site-packages (from tvdatafeed==2.1.0) (1.8.0)\n",
      "Requirement already satisfied: requests in c:\\programdata\\anaconda3\\lib\\site-packages (from tvdatafeed==2.1.0) (2.32.2)\n",
      "Requirement already satisfied: numpy>=1.26.0 in c:\\programdata\\anaconda3\\lib\\site-packages (from pandas->tvdatafeed==2.1.0) (1.26.4)\n",
      "Requirement already satisfied: python-dateutil>=2.8.2 in c:\\users\\access\\appdata\\roaming\\python\\python312\\site-packages (from pandas->tvdatafeed==2.1.0) (2.9.0.post0)\n",
      "Requirement already satisfied: pytz>=2020.1 in c:\\programdata\\anaconda3\\lib\\site-packages (from pandas->tvdatafeed==2.1.0) (2024.1)\n",
      "Requirement already satisfied: tzdata>=2022.7 in c:\\programdata\\anaconda3\\lib\\site-packages (from pandas->tvdatafeed==2.1.0) (2023.3)\n",
      "Requirement already satisfied: charset-normalizer<4,>=2 in c:\\programdata\\anaconda3\\lib\\site-packages (from requests->tvdatafeed==2.1.0) (2.0.4)\n",
      "Requirement already satisfied: idna<4,>=2.5 in c:\\programdata\\anaconda3\\lib\\site-packages (from requests->tvdatafeed==2.1.0) (3.7)\n",
      "Requirement already satisfied: urllib3<3,>=1.21.1 in c:\\programdata\\anaconda3\\lib\\site-packages (from requests->tvdatafeed==2.1.0) (2.2.2)\n",
      "Requirement already satisfied: certifi>=2017.4.17 in c:\\programdata\\anaconda3\\lib\\site-packages (from requests->tvdatafeed==2.1.0) (2024.6.2)\n",
      "Requirement already satisfied: six>=1.5 in c:\\users\\access\\appdata\\roaming\\python\\python312\\site-packages (from python-dateutil>=2.8.2->pandas->tvdatafeed==2.1.0) (1.16.0)\n",
      "Building wheels for collected packages: tvdatafeed\n",
      "  Building wheel for tvdatafeed (setup.py): started\n",
      "  Building wheel for tvdatafeed (setup.py): finished with status 'done'\n",
      "  Created wheel for tvdatafeed: filename=tvdatafeed-2.1.0-py3-none-any.whl size=17638 sha256=9356f5e34c7c2bbff11eceadaa7233a6fc55c4f99723fda7ecef08e4eff7cd8f\n",
      "  Stored in directory: C:\\Users\\Access\\AppData\\Local\\Temp\\pip-ephem-wheel-cache-k16e80f0\\wheels\\88\\4b\\d2\\ce1c8432f33d4ab6d148d6ece31055eadadda0a5dd9fb76366\n",
      "Successfully built tvdatafeed\n",
      "Installing collected packages: tvdatafeed\n",
      "Successfully installed tvdatafeed-2.1.0\n",
      "Note: you may need to restart the kernel to use updated packages.\n"
     ]
    },
    {
     "name": "stderr",
     "output_type": "stream",
     "text": [
      "  Running command git clone --filter=blob:none --quiet https://github.com/rongardF/tvdatafeed.git 'C:\\Users\\Access\\AppData\\Local\\Temp\\pip-req-build-4npss17b'\n"
     ]
    }
   ],
   "source": [
    "pip install --upgrade --no-cache-dir git+https://github.com/rongardF/tvdatafeed.git"
   ]
  },
  {
   "cell_type": "code",
   "execution_count": 3,
   "id": "d120683d-b33d-4979-93f9-6888c74f052f",
   "metadata": {},
   "outputs": [],
   "source": [
    "from tvDatafeed import TvDatafeed, Interval\n",
    "\n",
    "username = 'yojili6955'\n",
    "password = 'AafgA*(123123123**'\n",
    "\n",
    "tv = TvDatafeed(username, password)"
   ]
  },
  {
   "cell_type": "code",
   "execution_count": 16,
   "id": "4d49ee08-038a-468c-8e03-6169eaef82bb",
   "metadata": {},
   "outputs": [
    {
     "name": "stdout",
     "output_type": "stream",
     "text": [
      "                     symbol     open     high      low    close       volume\n",
      "datetime                                                                    \n",
      "2024-09-03 16:30:00  SP:SPX  5615.87  5616.40  5613.14  5613.14   85157372.0\n",
      "2024-09-03 16:31:00  SP:SPX  5613.41  5616.11  5609.00  5615.61   17004795.0\n",
      "2024-09-03 16:32:00  SP:SPX  5615.41  5615.41  5608.38  5610.39   12910668.0\n",
      "2024-09-03 16:33:00  SP:SPX  5609.75  5611.91  5607.56  5608.68   12602352.0\n",
      "2024-09-03 16:34:00  SP:SPX  5608.99  5610.24  5607.44  5610.24   10398978.0\n",
      "...                     ...      ...      ...      ...      ...          ...\n",
      "2024-09-19 22:56:00  SP:SPX  5713.49  5713.63  5711.39  5712.22   22879610.0\n",
      "2024-09-19 22:57:00  SP:SPX  5712.15  5714.28  5712.08  5713.36   24187130.0\n",
      "2024-09-19 22:58:00  SP:SPX  5713.45  5713.45  5710.62  5711.46   36893990.0\n",
      "2024-09-19 22:59:00  SP:SPX  5712.56  5717.05  5712.30  5714.14   66416320.0\n",
      "2024-09-19 23:00:00  SP:SPX  5713.87  5713.87  5713.64  5713.65  442512840.0\n",
      "\n",
      "[5100 rows x 6 columns]\n"
     ]
    }
   ],
   "source": [
    "data = tv.get_hist(symbol='SPX',exchange='SP',interval=Interval.in_1_minute,n_bars=100000)\n",
    "print(data)"
   ]
  },
  {
   "cell_type": "code",
   "execution_count": null,
   "id": "0a85b9c2-605b-450e-a251-a8eea5a0cb40",
   "metadata": {},
   "outputs": [],
   "source": []
  }
 ],
 "metadata": {
  "kernelspec": {
   "display_name": "Python 3 (ipykernel)",
   "language": "python",
   "name": "python3"
  },
  "language_info": {
   "codemirror_mode": {
    "name": "ipython",
    "version": 3
   },
   "file_extension": ".py",
   "mimetype": "text/x-python",
   "name": "python",
   "nbconvert_exporter": "python",
   "pygments_lexer": "ipython3",
   "version": "3.12.4"
  }
 },
 "nbformat": 4,
 "nbformat_minor": 5
}
