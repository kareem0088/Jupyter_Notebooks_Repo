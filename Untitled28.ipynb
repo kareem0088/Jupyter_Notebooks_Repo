{
 "cells": [
  {
   "cell_type": "code",
   "execution_count": null,
   "id": "ba955cfb-4fee-4d5a-9942-5b478a529c90",
   "metadata": {},
   "outputs": [],
   "source": [
    "from tkinter import *\n",
    "from tkinter import filedialog, simpledialog\n",
    "from PIL import Image, ImageTk, ImageOps, ImageDraw\n",
    "\n",
    "window = Tk()\n",
    "window.title(\"Simple Image Processing\")\n",
    "window.geometry(\"800x800\")\n",
    "\n",
    "img = None  \n",
    "img_display = None\n",
    "\n",
    "button_frame = Frame(window)\n",
    "button_frame.pack(side=TOP, pady=10)\n",
    "\n",
    "def open_image():\n",
    "    global img, img_display\n",
    "    filepath = filedialog.askopenfilename(filetypes=[(\"Image files\", \".jpg;.jpeg;.png;.bmp\")])\n",
    "    if filepath:\n",
    "        img = Image.open(filepath)\n",
    "        img_display = ImageTk.PhotoImage(img.resize((400, 400)))\n",
    "        canvas.create_image(0, 0, anchor=NW, image=img_display)\n",
    "\n",
    "def show_histogram():\n",
    "    global img, img_display\n",
    "    if img is not None:\n",
    "        img_gray = img.convert(\"L\")\n",
    "        \n",
    "        histogram = [0] * 256  \n",
    "        for pixel in img_gray.getdata():\n",
    "            histogram[pixel] += 1  \n",
    "\n",
    "        # Create a blank image to draw the histogram\n",
    "        hist_img = Image.new(\"RGB\", (256, 100), \"white\")\n",
    "        draw = ImageDraw.Draw(hist_img)\n",
    "\n",
    "        max_value = max(histogram) if max(histogram) > 0 else 1 \n",
    "        for x in range(256):\n",
    "            height = int((histogram[x] / max_value) * 100)\n",
    "            draw.line((x, 100, x, 100 - height), fill=\"black\")\n",
    "\n",
    "        img_display = ImageTk.PhotoImage(hist_img.resize((400, 150)))\n",
    "        hist_canvas.create_image(0, 0, anchor=NW, image=img_display)\n",
    "        hist_canvas.image = img_display  \n",
    "    else:\n",
    "        print(\"No image loaded. Please open an image first.\")\n",
    "\n",
    "\n",
    "\n",
    "btn_open = Button(button_frame, text=\"Open Image\", command=open_image)\n",
    "btn_open.grid(row=0, column=0, padx=5, pady=5)\n",
    "\n",
    "btn_histogram = Button(button_frame, text=\"Show Histogram\", command=show_histogram)\n",
    "btn_histogram.grid(row=0, column=1, padx=5, pady=5)\n",
    "\n",
    "canvas = Canvas(window, width=400, height=400)\n",
    "canvas.pack(pady=10)\n",
    "\n",
    "hist_canvas = Canvas(window, width=400, height=150)\n",
    "hist_canvas.pack(pady=10)\n",
    "\n",
    "window.mainloop()"
   ]
  },
  {
   "cell_type": "code",
   "execution_count": null,
   "id": "9d662024-aa50-4c8e-a99d-de3ba20cafad",
   "metadata": {},
   "outputs": [],
   "source": []
  },
  {
   "cell_type": "code",
   "execution_count": null,
   "id": "8e0871cc-57ea-45e6-a968-644e6ef5fa0f",
   "metadata": {},
   "outputs": [],
   "source": []
  },
  {
   "cell_type": "code",
   "execution_count": null,
   "id": "95d72644-169c-4947-998a-74afbaa3867e",
   "metadata": {},
   "outputs": [],
   "source": []
  }
 ],
 "metadata": {
  "kernelspec": {
   "display_name": "Python 3 (ipykernel)",
   "language": "python",
   "name": "python3"
  },
  "language_info": {
   "codemirror_mode": {
    "name": "ipython",
    "version": 3
   },
   "file_extension": ".py",
   "mimetype": "text/x-python",
   "name": "python",
   "nbconvert_exporter": "python",
   "pygments_lexer": "ipython3",
   "version": "3.12.4"
  }
 },
 "nbformat": 4,
 "nbformat_minor": 5
}
