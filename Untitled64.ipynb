{
 "cells": [
  {
   "cell_type": "code",
   "execution_count": 1,
   "id": "3ea6a830-167d-427a-9208-d431d90f426d",
   "metadata": {},
   "outputs": [
    {
     "name": "stdout",
     "output_type": "stream",
     "text": [
      "لا توجد صفقات حالية.\n"
     ]
    },
    {
     "data": {
      "text/plain": [
       "True"
      ]
     },
     "execution_count": 1,
     "metadata": {},
     "output_type": "execute_result"
    }
   ],
   "source": [
    "import MetaTrader5 as mt5\n",
    "import requests\n",
    "\n",
    "TOKEN = 'توكن البوت'\n",
    "CHAT_ID = 'معرف القناة'\n",
    "\n",
    "# الاتصال بميتاتريدر\n",
    "mt5.initialize()\n",
    "\n",
    "def send_trade_to_telegram(message):\n",
    "    url = f\"https://api.telegram.org/bot{TOKEN}/sendMessage\"\n",
    "    payload = {\n",
    "        \"chat_id\": CHAT_ID,\n",
    "        \"text\": message\n",
    "    }\n",
    "    requests.post(url, json=payload)\n",
    "\n",
    "positions = mt5.positions_get()\n",
    "\n",
    "if positions:\n",
    "    for pos in positions:\n",
    "        msg = f\"\"\"\n",
    "        🟢 صفقة جديدة:\n",
    "        زوج العملة: {pos.symbol}\n",
    "        النوع: {'شراء' if pos.type == 0 else 'بيع'}\n",
    "        الحجم: {pos.volume}\n",
    "        سعر الدخول: {pos.price_open}\n",
    "        أخذ الربح: {pos.tp}\n",
    "        وقف الخسارة: {pos.sl}\n",
    "        \"\"\"\n",
    "        send_trade_to_telegram(msg)\n",
    "else:\n",
    "    print(\"لا توجد صفقات حالية.\")\n",
    "\n",
    "mt5.shutdown()\n"
   ]
  },
  {
   "cell_type": "code",
   "execution_count": null,
   "id": "150a287b-73d5-48b6-b2aa-841cd62ac26e",
   "metadata": {},
   "outputs": [],
   "source": []
  }
 ],
 "metadata": {
  "kernelspec": {
   "display_name": "Python 3 (ipykernel)",
   "language": "python",
   "name": "python3"
  },
  "language_info": {
   "codemirror_mode": {
    "name": "ipython",
    "version": 3
   },
   "file_extension": ".py",
   "mimetype": "text/x-python",
   "name": "python",
   "nbconvert_exporter": "python",
   "pygments_lexer": "ipython3",
   "version": "3.12.4"
  }
 },
 "nbformat": 4,
 "nbformat_minor": 5
}
