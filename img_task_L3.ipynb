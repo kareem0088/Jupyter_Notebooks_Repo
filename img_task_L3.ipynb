{
 "cells": [
  {
   "cell_type": "code",
   "execution_count": 3,
   "id": "7ead21e9-bb55-48d6-89d5-1f824c3230e6",
   "metadata": {},
   "outputs": [
    {
     "ename": "ModuleNotFoundError",
     "evalue": "No module named 'cv2'",
     "output_type": "error",
     "traceback": [
      "\u001b[1;31m---------------------------------------------------------------------------\u001b[0m",
      "\u001b[1;31mModuleNotFoundError\u001b[0m                       Traceback (most recent call last)",
      "Cell \u001b[1;32mIn[3], line 1\u001b[0m\n\u001b[1;32m----> 1\u001b[0m \u001b[38;5;28;01mimport\u001b[39;00m \u001b[38;5;21;01mcv2\u001b[39;00m\n\u001b[0;32m      2\u001b[0m \u001b[38;5;28;01mimport\u001b[39;00m \u001b[38;5;21;01mnumpy\u001b[39;00m \u001b[38;5;28;01mas\u001b[39;00m \u001b[38;5;21;01mnp\u001b[39;00m\n\u001b[0;32m      3\u001b[0m \u001b[38;5;28;01mfrom\u001b[39;00m \u001b[38;5;21;01mtkinter\u001b[39;00m \u001b[38;5;28;01mimport\u001b[39;00m \u001b[38;5;241m*\u001b[39m\n",
      "\u001b[1;31mModuleNotFoundError\u001b[0m: No module named 'cv2'"
     ]
    }
   ],
   "source": [
    "import cv2\n",
    "import numpy as np\n",
    "from tkinter import *\n",
    "from tkinter import filedialog, simpledialog\n",
    "from PIL import Image, ImageTk"
   ]
  },
  {
   "cell_type": "code",
   "execution_count": 2,
   "id": "b3901686-251f-41e7-ace4-97e4a2a7b4c0",
   "metadata": {},
   "outputs": [
    {
     "name": "stdout",
     "output_type": "stream",
     "text": [
      "Defaulting to user installation because normal site-packages is not writeable\n",
      "Note: you may need to restart the kernel to use updated packages.\n"
     ]
    },
    {
     "name": "stderr",
     "output_type": "stream",
     "text": [
      "WARNING: Retrying (Retry(total=4, connect=None, read=None, redirect=None, status=None)) after connection broken by 'NewConnectionError('<pip._vendor.urllib3.connection.HTTPSConnection object at 0x000002C8A078DEB0>: Failed to establish a new connection: [Errno 11001] getaddrinfo failed')': /simple/cv2/\n",
      "WARNING: Retrying (Retry(total=3, connect=None, read=None, redirect=None, status=None)) after connection broken by 'NewConnectionError('<pip._vendor.urllib3.connection.HTTPSConnection object at 0x000002C8A09E6D80>: Failed to establish a new connection: [Errno 11001] getaddrinfo failed')': /simple/cv2/\n",
      "WARNING: Retrying (Retry(total=2, connect=None, read=None, redirect=None, status=None)) after connection broken by 'NewConnectionError('<pip._vendor.urllib3.connection.HTTPSConnection object at 0x000002C8A0A04B60>: Failed to establish a new connection: [Errno 11001] getaddrinfo failed')': /simple/cv2/\n",
      "WARNING: Retrying (Retry(total=1, connect=None, read=None, redirect=None, status=None)) after connection broken by 'NewConnectionError('<pip._vendor.urllib3.connection.HTTPSConnection object at 0x000002C8A0A047D0>: Failed to establish a new connection: [Errno 11001] getaddrinfo failed')': /simple/cv2/\n",
      "WARNING: Retrying (Retry(total=0, connect=None, read=None, redirect=None, status=None)) after connection broken by 'NewConnectionError('<pip._vendor.urllib3.connection.HTTPSConnection object at 0x000002C8A0A065A0>: Failed to establish a new connection: [Errno 11001] getaddrinfo failed')': /simple/cv2/\n",
      "ERROR: Could not find a version that satisfies the requirement cv2 (from versions: none)\n",
      "ERROR: No matching distribution found for cv2\n"
     ]
    }
   ],
   "source": [
    "pip install cv2"
   ]
  },
  {
   "cell_type": "code",
   "execution_count": 2,
   "id": "deec8587-a499-401d-9d3b-e378c2cbc3be",
   "metadata": {},
   "outputs": [],
   "source": [
    "def open_image():\n",
    "    global img, img_display\n",
    "    file_path = filedialog.askopenfilename()\n",
    "    img = cv2.imread(file_path)\n",
    "    img_display = cv2.cvtColor(img, cv2.COLOR_BGR2RGB)  \n",
    "    show_image(img_display, \"Original Image\")"
   ]
  },
  {
   "cell_type": "code",
   "execution_count": 3,
   "id": "b9571dc2-e755-4b71-9f24-d7e62d9feb73",
   "metadata": {},
   "outputs": [],
   "source": [
    "def separate_channels():\n",
    "    b, g, r = cv2.split(img)\n",
    "    img_r = cv2.merge([r, np.zeros_like(r), np.zeros_like(r)])\n",
    "    img_g = cv2.merge([np.zeros_like(g), g, np.zeros_like(g)])\n",
    "    img_b = cv2.merge([np.zeros_like(b), np.zeros_like(b), b])\n",
    "    show_image(cv2.cvtColor(img_r, cv2.COLOR_BGR2RGB), \"Red Channel\")\n",
    "    show_image(cv2.cvtColor(img_g, cv2.COLOR_BGR2RGB), \"Green Channel\")\n",
    "    show_image(cv2.cvtColor(img_b, cv2.COLOR_BGR2RGB), \"Blue Channel\")"
   ]
  },
  {
   "cell_type": "code",
   "execution_count": 4,
   "id": "06a99f8d-dbfe-4454-ab75-93fc03cd3df2",
   "metadata": {},
   "outputs": [],
   "source": [
    "def convert_to_gray():\n",
    "    global img_gray\n",
    "    img_gray = cv2.cvtColor(img, cv2.COLOR_BGR2GRAY)\n",
    "    show_image(cv2.cvtColor(img_gray, cv2.COLOR_GRAY2RGB), \"Grayscale Image\")"
   ]
  },
  {
   "cell_type": "code",
   "execution_count": 5,
   "id": "499d7aa6-e4fe-4539-9145-9acb7cc4ea20",
   "metadata": {},
   "outputs": [],
   "source": [
    "def subtract_constant():\n",
    "    constant = simpledialog.askinteger(\"Input\", \"Enter a constant to subtract:\")\n",
    "    img_subtracted = cv2.subtract(img, np.full(img.shape, constant, dtype=np.uint8))\n",
    "    show_image(cv2.cvtColor(img_subtracted, cv2.COLOR_BGR2RGB), f\"Image - {constant}\")"
   ]
  },
  {
   "cell_type": "code",
   "execution_count": 6,
   "id": "7fe4b813-e6f4-4877-a9ca-44db4ae6c6f9",
   "metadata": {},
   "outputs": [],
   "source": [
    "def divide_constant():\n",
    "    constant = simpledialog.askfloat(\"Input\", \"Enter a constant to divide by:\")\n",
    "    img_divided = cv2.divide(img, np.full(img.shape, constant, dtype=np.uint8))\n",
    "    show_image(cv2.cvtColor(img_divided, cv2.COLOR_BGR2RGB), f\"Image / {constant}\")"
   ]
  },
  {
   "cell_type": "code",
   "execution_count": 7,
   "id": "fb1bbd60-9dd9-431f-ab6e-8bf282933e10",
   "metadata": {},
   "outputs": [],
   "source": [
    "def solarize_image():\n",
    "    threshold = simpledialog.askinteger(\"Input\", \"Enter a solarization threshold (0-255):\")\n",
    "    img_solarized = np.where(img > threshold, 255 - img, img)\n",
    "    show_image(cv2.cvtColor(img_solarized.astype(np.uint8), cv2.COLOR_BGR2RGB), \"Solarized Image\")"
   ]
  },
  {
   "cell_type": "code",
   "execution_count": 8,
   "id": "4baf5387-34c9-46af-b514-ace987fdc648",
   "metadata": {},
   "outputs": [],
   "source": [
    "def show_image(image, title=\"Image\"):\n",
    "    window = Toplevel()\n",
    "    window.title(title)\n",
    "    img = Image.fromarray(image)\n",
    "    img_tk = ImageTk.PhotoImage(img)\n",
    "    label = Label(window, image=img_tk)\n",
    "    label.image = img_tk\n",
    "    label.pack()"
   ]
  },
  {
   "cell_type": "code",
   "execution_count": 12,
   "id": "27a9422d-9d5a-4dcd-b3d9-ad263af21d63",
   "metadata": {},
   "outputs": [],
   "source": [
    "root = Tk()\n",
    "root.title(\"Image Processing GUI\")\n",
    "root.geometry(\"300x300\")\n",
    "\n",
    "Button(root, text=\"Open Image\", command=open_image).pack(pady=5)\n",
    "Button(root, text=\"Separate RGB Channels\", command=separate_channels).pack(pady=5)\n",
    "Button(root, text=\"Convert to Grayscale\", command=convert_to_gray).pack(pady=5)\n",
    "Button(root, text=\"Subtract Constant\", command=subtract_constant).pack(pady=5)\n",
    "Button(root, text=\"Divide by Constant\", command=divide_constant).pack(pady=5)\n",
    "Button(root, text=\"Solarize Image\", command=solarize_image).pack(pady=5)"
   ]
  },
  {
   "cell_type": "code",
   "execution_count": 13,
   "id": "93eab93a-1a07-4f83-8c21-df13ebe0e456",
   "metadata": {},
   "outputs": [],
   "source": [
    "root.mainloop()"
   ]
  },
  {
   "cell_type": "code",
   "execution_count": null,
   "id": "b3ce60b4-7d47-4e89-8113-db3c9e02df9c",
   "metadata": {},
   "outputs": [],
   "source": []
  }
 ],
 "metadata": {
  "kernelspec": {
   "display_name": "Python 3 (ipykernel)",
   "language": "python",
   "name": "python3"
  },
  "language_info": {
   "codemirror_mode": {
    "name": "ipython",
    "version": 3
   },
   "file_extension": ".py",
   "mimetype": "text/x-python",
   "name": "python",
   "nbconvert_exporter": "python",
   "pygments_lexer": "ipython3",
   "version": "3.12.4"
  }
 },
 "nbformat": 4,
 "nbformat_minor": 5
}
