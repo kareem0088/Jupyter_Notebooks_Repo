{
 "cells": [
  {
   "cell_type": "code",
   "execution_count": 3,
   "id": "98ccc66f-d2cf-4237-88a0-9b6d4396faba",
   "metadata": {},
   "outputs": [
    {
     "ename": "FileNotFoundError",
     "evalue": "[Errno 2] No such file or directory: '/mnt/data/validation_methods_table.pdf'",
     "output_type": "error",
     "traceback": [
      "\u001b[1;31m---------------------------------------------------------------------------\u001b[0m",
      "\u001b[1;31mFileNotFoundError\u001b[0m                         Traceback (most recent call last)",
      "Cell \u001b[1;32mIn[3], line 68\u001b[0m\n\u001b[0;32m     56\u001b[0m table\u001b[38;5;241m.\u001b[39msetStyle(TableStyle([\n\u001b[0;32m     57\u001b[0m     (\u001b[38;5;124m'\u001b[39m\u001b[38;5;124mBACKGROUND\u001b[39m\u001b[38;5;124m'\u001b[39m, (\u001b[38;5;241m0\u001b[39m, \u001b[38;5;241m0\u001b[39m), (\u001b[38;5;241m-\u001b[39m\u001b[38;5;241m1\u001b[39m, \u001b[38;5;241m0\u001b[39m), colors\u001b[38;5;241m.\u001b[39mlightgrey),\n\u001b[0;32m     58\u001b[0m     (\u001b[38;5;124m'\u001b[39m\u001b[38;5;124mGRID\u001b[39m\u001b[38;5;124m'\u001b[39m, (\u001b[38;5;241m0\u001b[39m,\u001b[38;5;241m0\u001b[39m), (\u001b[38;5;241m-\u001b[39m\u001b[38;5;241m1\u001b[39m,\u001b[38;5;241m-\u001b[39m\u001b[38;5;241m1\u001b[39m), \u001b[38;5;241m0.5\u001b[39m, colors\u001b[38;5;241m.\u001b[39mgrey),\n\u001b[1;32m   (...)\u001b[0m\n\u001b[0;32m     64\u001b[0m     (\u001b[38;5;124m'\u001b[39m\u001b[38;5;124mRIGHTPADDING\u001b[39m\u001b[38;5;124m'\u001b[39m, (\u001b[38;5;241m0\u001b[39m,\u001b[38;5;241m0\u001b[39m), (\u001b[38;5;241m-\u001b[39m\u001b[38;5;241m1\u001b[39m,\u001b[38;5;241m-\u001b[39m\u001b[38;5;241m1\u001b[39m), \u001b[38;5;241m4\u001b[39m),\n\u001b[0;32m     65\u001b[0m ]))\n\u001b[0;32m     67\u001b[0m elements\u001b[38;5;241m.\u001b[39mappend(table)\n\u001b[1;32m---> 68\u001b[0m \u001b[43mdoc\u001b[49m\u001b[38;5;241;43m.\u001b[39;49m\u001b[43mbuild\u001b[49m\u001b[43m(\u001b[49m\u001b[43melements\u001b[49m\u001b[43m)\u001b[49m\n\u001b[0;32m     70\u001b[0m file_path\n",
      "File \u001b[1;32m~\\AppData\\Roaming\\Python\\Python312\\site-packages\\reportlab\\platypus\\doctemplate.py:1322\u001b[0m, in \u001b[0;36mSimpleDocTemplate.build\u001b[1;34m(self, flowables, onFirstPage, onLaterPages, canvasmaker)\u001b[0m\n\u001b[0;32m   1320\u001b[0m \u001b[38;5;28;01mif\u001b[39;00m onLaterPages \u001b[38;5;129;01mis\u001b[39;00m _doNothing \u001b[38;5;129;01mand\u001b[39;00m \u001b[38;5;28mhasattr\u001b[39m(\u001b[38;5;28mself\u001b[39m,\u001b[38;5;124m'\u001b[39m\u001b[38;5;124monLaterPages\u001b[39m\u001b[38;5;124m'\u001b[39m):\n\u001b[0;32m   1321\u001b[0m     \u001b[38;5;28mself\u001b[39m\u001b[38;5;241m.\u001b[39mpageTemplates[\u001b[38;5;241m1\u001b[39m]\u001b[38;5;241m.\u001b[39mbeforeDrawPage \u001b[38;5;241m=\u001b[39m \u001b[38;5;28mself\u001b[39m\u001b[38;5;241m.\u001b[39monLaterPages\n\u001b[1;32m-> 1322\u001b[0m \u001b[43mBaseDocTemplate\u001b[49m\u001b[38;5;241;43m.\u001b[39;49m\u001b[43mbuild\u001b[49m\u001b[43m(\u001b[49m\u001b[38;5;28;43mself\u001b[39;49m\u001b[43m,\u001b[49m\u001b[43mflowables\u001b[49m\u001b[43m,\u001b[49m\u001b[43m \u001b[49m\u001b[43mcanvasmaker\u001b[49m\u001b[38;5;241;43m=\u001b[39;49m\u001b[43mcanvasmaker\u001b[49m\u001b[43m)\u001b[49m\n",
      "File \u001b[1;32m~\\AppData\\Roaming\\Python\\Python312\\site-packages\\reportlab\\platypus\\doctemplate.py:1109\u001b[0m, in \u001b[0;36mBaseDocTemplate.build\u001b[1;34m(self, flowables, filename, canvasmaker)\u001b[0m\n\u001b[0;32m   1106\u001b[0m \u001b[38;5;66;03m#reapply pagecatcher info\u001b[39;00m\n\u001b[0;32m   1107\u001b[0m canv\u001b[38;5;241m.\u001b[39m_doc\u001b[38;5;241m.\u001b[39minfo \u001b[38;5;241m=\u001b[39m \u001b[38;5;28mself\u001b[39m\u001b[38;5;241m.\u001b[39m_savedInfo\n\u001b[1;32m-> 1109\u001b[0m \u001b[38;5;28;43mself\u001b[39;49m\u001b[38;5;241;43m.\u001b[39;49m\u001b[43m_endBuild\u001b[49m\u001b[43m(\u001b[49m\u001b[43m)\u001b[49m\n\u001b[0;32m   1110\u001b[0m \u001b[38;5;28;01mif\u001b[39;00m \u001b[38;5;28mself\u001b[39m\u001b[38;5;241m.\u001b[39m_onProgress:\n\u001b[0;32m   1111\u001b[0m     \u001b[38;5;28mself\u001b[39m\u001b[38;5;241m.\u001b[39m_onProgress(\u001b[38;5;124m'\u001b[39m\u001b[38;5;124mFINISHED\u001b[39m\u001b[38;5;124m'\u001b[39m,\u001b[38;5;241m0\u001b[39m)\n",
      "File \u001b[1;32m~\\AppData\\Roaming\\Python\\Python312\\site-packages\\reportlab\\platypus\\doctemplate.py:1044\u001b[0m, in \u001b[0;36mBaseDocTemplate._endBuild\u001b[1;34m(self)\u001b[0m\n\u001b[0;32m   1041\u001b[0m     \u001b[38;5;28mself\u001b[39m\u001b[38;5;241m.\u001b[39mclean_hanging()\n\u001b[0;32m   1042\u001b[0m     \u001b[38;5;28mself\u001b[39m\u001b[38;5;241m.\u001b[39mhandle_pageBreak()\n\u001b[1;32m-> 1044\u001b[0m \u001b[38;5;28;01mif\u001b[39;00m \u001b[38;5;28mgetattr\u001b[39m(\u001b[38;5;28mself\u001b[39m,\u001b[38;5;124m'\u001b[39m\u001b[38;5;124m_doSave\u001b[39m\u001b[38;5;124m'\u001b[39m,\u001b[38;5;241m1\u001b[39m): \u001b[38;5;28;43mself\u001b[39;49m\u001b[38;5;241;43m.\u001b[39;49m\u001b[43mcanv\u001b[49m\u001b[38;5;241;43m.\u001b[39;49m\u001b[43msave\u001b[49m\u001b[43m(\u001b[49m\u001b[43m)\u001b[49m\n\u001b[0;32m   1045\u001b[0m \u001b[38;5;28;01mif\u001b[39;00m \u001b[38;5;28mself\u001b[39m\u001b[38;5;241m.\u001b[39m_onPage: \u001b[38;5;28mself\u001b[39m\u001b[38;5;241m.\u001b[39mcanv\u001b[38;5;241m.\u001b[39msetPageCallBack(\u001b[38;5;28;01mNone\u001b[39;00m)\n",
      "File \u001b[1;32m~\\AppData\\Roaming\\Python\\Python312\\site-packages\\reportlab\\pdfgen\\canvas.py:1301\u001b[0m, in \u001b[0;36mCanvas.save\u001b[1;34m(self)\u001b[0m\n\u001b[0;32m   1297\u001b[0m \u001b[38;5;250m\u001b[39m\u001b[38;5;124;03m\"\"\"Saves and close the PDF document in the file.\u001b[39;00m\n\u001b[0;32m   1298\u001b[0m \u001b[38;5;124;03m   If there is current data a ShowPage is executed automatically.\u001b[39;00m\n\u001b[0;32m   1299\u001b[0m \u001b[38;5;124;03m   After this operation the canvas must not be used further.\"\"\"\u001b[39;00m\n\u001b[0;32m   1300\u001b[0m \u001b[38;5;28;01mif\u001b[39;00m \u001b[38;5;28mlen\u001b[39m(\u001b[38;5;28mself\u001b[39m\u001b[38;5;241m.\u001b[39m_code): \u001b[38;5;28mself\u001b[39m\u001b[38;5;241m.\u001b[39mshowPage()\n\u001b[1;32m-> 1301\u001b[0m \u001b[38;5;28;43mself\u001b[39;49m\u001b[38;5;241;43m.\u001b[39;49m\u001b[43m_doc\u001b[49m\u001b[38;5;241;43m.\u001b[39;49m\u001b[43mSaveToFile\u001b[49m\u001b[43m(\u001b[49m\u001b[38;5;28;43mself\u001b[39;49m\u001b[38;5;241;43m.\u001b[39;49m\u001b[43m_filename\u001b[49m\u001b[43m,\u001b[49m\u001b[43m \u001b[49m\u001b[38;5;28;43mself\u001b[39;49m\u001b[43m)\u001b[49m\n",
      "File \u001b[1;32m~\\AppData\\Roaming\\Python\\Python312\\site-packages\\reportlab\\pdfbase\\pdfdoc.py:208\u001b[0m, in \u001b[0;36mPDFDocument.SaveToFile\u001b[1;34m(self, filename, canvas)\u001b[0m\n\u001b[0;32m    206\u001b[0m     myfile \u001b[38;5;241m=\u001b[39m \u001b[38;5;241m1\u001b[39m\n\u001b[0;32m    207\u001b[0m     filename \u001b[38;5;241m=\u001b[39m makeFileName(filename)\n\u001b[1;32m--> 208\u001b[0m     f \u001b[38;5;241m=\u001b[39m \u001b[38;5;28;43mopen\u001b[39;49m\u001b[43m(\u001b[49m\u001b[43mfilename\u001b[49m\u001b[43m,\u001b[49m\u001b[43m \u001b[49m\u001b[38;5;124;43m\"\u001b[39;49m\u001b[38;5;124;43mwb\u001b[39;49m\u001b[38;5;124;43m\"\u001b[39;49m\u001b[43m)\u001b[49m\n\u001b[0;32m    209\u001b[0m \u001b[38;5;28;01melse\u001b[39;00m:\n\u001b[0;32m    210\u001b[0m     \u001b[38;5;28;01mraise\u001b[39;00m \u001b[38;5;167;01mTypeError\u001b[39;00m(\u001b[38;5;124m'\u001b[39m\u001b[38;5;124mCannot use \u001b[39m\u001b[38;5;132;01m%s\u001b[39;00m\u001b[38;5;124m as a filename or file\u001b[39m\u001b[38;5;124m'\u001b[39m \u001b[38;5;241m%\u001b[39m \u001b[38;5;28mrepr\u001b[39m(filename))\n",
      "\u001b[1;31mFileNotFoundError\u001b[0m: [Errno 2] No such file or directory: '/mnt/data/validation_methods_table.pdf'"
     ]
    }
   ],
   "source": [
    "from reportlab.lib.pagesizes import A4\n",
    "from reportlab.platypus import SimpleDocTemplate, Table, TableStyle, Paragraph, Spacer\n",
    "from reportlab.lib import colors\n",
    "from reportlab.lib.styles import getSampleStyleSheet\n",
    "\n",
    "# PDF file path\n",
    "file_path = \"/mnt/data/validation_methods_table.pdf\"\n",
    "\n",
    "# Table data\n",
    "data = [\n",
    "    [\"الأسلوب\", \"المرحلة\", \"المشاكل التي يحلّها\", \"أفضل خليط & أهدافه\", \"المميزات\", \"العيوب\", \"الاستراتيجيات المفضلة\"],\n",
    "    [\"Sliding Window\", \"Train\", \"Price Forecasting\\nVolatility Modeling\",\n",
    "     \"Mix: Walk‑Forward Validation\\nأهداف: تحديث دوري + تقييم متسلسل\",\n",
    "     \"• يواكب تغيرات السوق\\n• يبقي النموذج مكيّفًا\", \"• قد يفقد الأنماط طويلة الأمد\\n• مكلف حسابيًا\",\n",
    "     \"توقع الأسعار، توليد الإشارات\"],\n",
    "    [\"Expanding Window\", \"Train\", \"Long‑term Trend\\nVaR Estimation\",\n",
    "     \"Mix: Purged K‑Fold CV\\nأهداف: تاريخ كامل + إزالة التسرّب\",\n",
    "     \"• يلتقط الأنماط طويلة الأمد\\n• يقلل حساسية الفترات القصيرة\", \"• بطء مع البيانات الكبيرة\\n• ضوضاء قديمة\",\n",
    "     \"نمذجة الاتجاهات، إدارة المخاطر\"],\n",
    "    [\"Walk‑Forward Validation\", \"Validation & Test\", \"Signal Gen.\\nPairs Trading\\nRisk Management\",\n",
    "     \"Mix: Monte‑Carlo\\nأهداف: تقييم متسلسل + حساسية زمنية\",\n",
    "     \"• واقعي\\n• يمنع التسرّب\", \"• إعداد معقد\\n• يحتاج بيانات كثيرة\",\n",
    "     \"تداول الأزواج، توليد الإشارات\"],\n",
    "    [\"Purged K‑Fold CV + Embargo\", \"Validation\", \"HFT Signals\\nEvent‑Driven\",\n",
    "     \"Mix: HV‑Block\\nأهداف: تجنب التسرّب + عزل الارتباط\",\n",
    "     \"• يقلل Look‑ahead bias\\n• مناسب للأحداث\", \"• معقد التطبيق\\n• ضبط الفترات صعب\",\n",
    "     \"استراتيجيات عالية التردد، أحداث السوق\"],\n",
    "    [\"CPCV\", \"Validation\", \"Stability Testing\",\n",
    "     \"Mix: Nested CV\\nأهداف: تنوع الترتيبات + تقييم مستقل\",\n",
    "     \"• تقدير متين للانحراف\\n• اختبارات متعددة\", \"• مكلف حسابيًا\\n• إدارة النتائج معقد\",\n",
    "     \"تقييم الثبات، ضبط الهايبر\"],\n",
    "    [\"HV‑Block\", \"Validation\", \"Autocorrelated Series\\nRegime Switching\",\n",
    "     \"Mix: Sliding Window\\nأهداف: عزل الارتباط + مواكبة الجديد\",\n",
    "     \"• يحمي من التحيّز الزمني\\n• استقلالية الفترات\", \"• يهمل الأنماط العابرة\\n• تحديد كتلة صعب\",\n",
    "     \"نمذجة التقلب، التعامد الزمني\"],\n",
    "    [\"Monte‑Carlo\", \"Validation\", \"Stress Testing\\nScenario Analysis\",\n",
    "     \"Mix: Expanding Window\\nأهداف: حساسية زمنية + أنماط طويلة\",\n",
    "     \"• توزيع شامل للأداء\\n• يكشف نقاط الضعف\", \"• بدايات قد لا تمثل\\n• تكرارات كثيرة\",\n",
    "     \"اختبار الضغط، تحليل السيناريو\"],\n",
    "    [\"Nested CV\", \"Validation & Test\", \"Hyperparam. Tuning\\nFinal Selection\",\n",
    "     \"Mix: Walk‑Forward\\nأهداف: منع Over‑tuning + تقييم عملي\",\n",
    "     \"• يمنع الإفراط في الضبط\\n• تقييم داخلي وخارجي\", \"• تعقيد عالي\\n• بطء حسابي\",\n",
    "     \"ضبط الهايبر، اختيار النموذج النهائي\"]\n",
    "]\n",
    "\n",
    "# Create PDF\n",
    "doc = SimpleDocTemplate(file_path, pagesize=A4)\n",
    "styles = getSampleStyleSheet()\n",
    "elements = []\n",
    "\n",
    "title = Paragraph(\"جدول أساليب تقسيم وتقييم البيانات الزمنية في التداول\", styles['Title'])\n",
    "elements.append(title)\n",
    "elements.append(Spacer(1, 12))\n",
    "\n",
    "table = Table(data, repeatRows=1)\n",
    "table.setStyle(TableStyle([\n",
    "    ('BACKGROUND', (0, 0), (-1, 0), colors.lightgrey),\n",
    "    ('GRID', (0,0), (-1,-1), 0.5, colors.grey),\n",
    "    ('VALIGN', (0,0), (-1,-1), 'TOP'),\n",
    "    ('FONTNAME', (0,0), (-1,0), 'Helvetica-Bold'),\n",
    "    ('FONTSIZE', (0,0), (-1,0), 10),\n",
    "    ('FONTSIZE', (0,1), (-1,-1), 8),\n",
    "    ('LEFTPADDING', (0,0), (-1,-1), 4),\n",
    "    ('RIGHTPADDING', (0,0), (-1,-1), 4),\n",
    "]))\n",
    "\n",
    "elements.append(table)\n",
    "doc.build(elements)\n",
    "\n",
    "file_path\n"
   ]
  },
  {
   "cell_type": "code",
   "execution_count": 2,
   "id": "83e4292f-9c93-496e-9ac5-68bf1fa86d3d",
   "metadata": {},
   "outputs": [
    {
     "name": "stdout",
     "output_type": "stream",
     "text": [
      "Defaulting to user installation because normal site-packages is not writeableNote: you may need to restart the kernel to use updated packages.\n"
     ]
    },
    {
     "name": "stderr",
     "output_type": "stream",
     "text": [
      "\n",
      "[notice] A new release of pip is available: 24.3.1 -> 25.1.1\n",
      "[notice] To update, run: python.exe -m pip install --upgrade pip\n"
     ]
    },
    {
     "name": "stdout",
     "output_type": "stream",
     "text": [
      "\n",
      "Collecting reportlab\n",
      "  Downloading reportlab-4.4.2-py3-none-any.whl.metadata (1.8 kB)\n",
      "Requirement already satisfied: pillow>=9.0.0 in c:\\programdata\\anaconda3\\lib\\site-packages (from reportlab) (10.3.0)\n",
      "Requirement already satisfied: charset-normalizer in c:\\programdata\\anaconda3\\lib\\site-packages (from reportlab) (2.0.4)\n",
      "Downloading reportlab-4.4.2-py3-none-any.whl (2.0 MB)\n",
      "   ---------------------------------------- 0.0/2.0 MB ? eta -:--:--\n",
      "   ---------------------------------------- 0.0/2.0 MB ? eta -:--:--\n",
      "   ----- ---------------------------------- 0.3/2.0 MB ? eta -:--:--\n",
      "   ----- ---------------------------------- 0.3/2.0 MB ? eta -:--:--\n",
      "   ----- ---------------------------------- 0.3/2.0 MB ? eta -:--:--\n",
      "   ----- ---------------------------------- 0.3/2.0 MB ? eta -:--:--\n",
      "   ----- ---------------------------------- 0.3/2.0 MB ? eta -:--:--\n",
      "   ----- ---------------------------------- 0.3/2.0 MB ? eta -:--:--\n",
      "   ----- ---------------------------------- 0.3/2.0 MB ? eta -:--:--\n",
      "   ---------- ----------------------------- 0.5/2.0 MB 171.1 kB/s eta 0:00:09\n",
      "   ---------- ----------------------------- 0.5/2.0 MB 171.1 kB/s eta 0:00:09\n",
      "   ---------------- ----------------------- 0.8/2.0 MB 262.1 kB/s eta 0:00:05\n",
      "   --------------------- ------------------ 1.0/2.0 MB 370.1 kB/s eta 0:00:03\n",
      "   -------------------------------- ------- 1.6/2.0 MB 541.2 kB/s eta 0:00:01\n",
      "   ---------------------------------------- 2.0/2.0 MB 636.6 kB/s eta 0:00:00\n",
      "Installing collected packages: reportlab\n",
      "Successfully installed reportlab-4.4.2\n"
     ]
    }
   ],
   "source": [
    "pip install reportlab"
   ]
  },
  {
   "cell_type": "code",
   "execution_count": 4,
   "id": "8b6fbd83-7877-4ae7-8dc0-88718a217f30",
   "metadata": {},
   "outputs": [
    {
     "data": {
      "text/plain": [
       "9.0"
      ]
     },
     "execution_count": 4,
     "metadata": {},
     "output_type": "execute_result"
    }
   ],
   "source": [
    "(2+4**2)/2"
   ]
  },
  {
   "cell_type": "code",
   "execution_count": null,
   "id": "89ef6444-345e-4548-813a-439886dfe0e4",
   "metadata": {},
   "outputs": [],
   "source": []
  }
 ],
 "metadata": {
  "kernelspec": {
   "display_name": "Python 3 (ipykernel)",
   "language": "python",
   "name": "python3"
  },
  "language_info": {
   "codemirror_mode": {
    "name": "ipython",
    "version": 3
   },
   "file_extension": ".py",
   "mimetype": "text/x-python",
   "name": "python",
   "nbconvert_exporter": "python",
   "pygments_lexer": "ipython3",
   "version": "3.12.4"
  }
 },
 "nbformat": 4,
 "nbformat_minor": 5
}
