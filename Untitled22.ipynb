{
 "cells": [
  {
   "cell_type": "code",
   "execution_count": 9,
   "id": "624d87cd-b3a0-494d-89ef-5b1b3b8f9cbe",
   "metadata": {},
   "outputs": [
    {
     "name": "stdout",
     "output_type": "stream",
     "text": [
      "التيكات المجمعة: [(1729603680, 1.08271, 1.08271, 0., 0, 1729603680008, 2, 0.)\n",
      " (1729603680, 1.08269, 1.08269, 0., 0, 1729603680211, 6, 0.)\n",
      " (1729603680, 1.0827 , 1.0827 , 0., 0, 1729603680409, 6, 0.)]\n",
      "(1729603680, 1.08271, 1.08271, 0., 0, 1729603680008, 2, 0.)\n",
      "(1729603680, 1.08269, 1.08269, 0., 0, 1729603680211, 6, 0.)\n",
      "(1729603680, 1.0827, 1.0827, 0., 0, 1729603680409, 6, 0.)\n",
      "شمعة محسوبة من 3 تيكات للرمز EURUSD:\n",
      "الافتتاح (Open): 1.08271\n",
      "الإغلاق (Close): 1.0827\n",
      "الأعلى (High): 1.08271\n",
      "الأدنى (Low): 1.08269\n",
      "إجمالي حجم التداول (Volume): 0.0\n"
     ]
    },
    {
     "data": {
      "text/plain": [
       "True"
      ]
     },
     "execution_count": 9,
     "metadata": {},
     "output_type": "execute_result"
    }
   ],
   "source": [
    "import MetaTrader5 as mt5\n",
    "from datetime import datetime\n",
    "import time\n",
    "\n",
    "# بدء الاتصال بـ MetaTrader 5\n",
    "if not mt5.initialize():\n",
    "    print(\"فشل في الاتصال بـ MetaTrader 5\")\n",
    "    quit()\n",
    "\n",
    "# تحديد الرمز الذي تريد جمع التيكات له (مثال: EURUSD)\n",
    "symbol = \"EURUSD\"\n",
    "\n",
    "# التحقق من وجود الرمز\n",
    "symbol_info = mt5.symbol_info(symbol)\n",
    "if symbol_info is None:\n",
    "    print(f\"الرمز {symbol} غير موجود\")\n",
    "    mt5.shutdown()\n",
    "    quit()\n",
    "\n",
    "# دالة لجمع 3 تيكات بعد تشغيل السكريبت\n",
    "def get_three_ticks():\n",
    "    while True:\n",
    "        # محاولة الحصول على 3 تيكات\n",
    "        ticks = mt5.copy_ticks_from(symbol, datetime.now(), 3, mt5.COPY_TICKS_ALL)\n",
    "        if len(ticks) >= 3:\n",
    "            return ticks\n",
    "        # انتظار بعض الوقت قبل المحاولة مجدداً\n",
    "        time.sleep(2)\n",
    "\n",
    "# استدعاء الدالة للحصول على 3 تيكات\n",
    "ticks = get_three_ticks()\n",
    "\n",
    "# طباعة التيكات المجمعة للتأكد من أنها ليست فارغة\n",
    "print(\"التيكات المجمعة:\", ticks)\n",
    "\n",
    "# التحقق من الحصول على التيكات الصحيحة\n",
    "if len(ticks) >= 3:\n",
    "    # طباعة بيانات التيكات للتأكد من الحقول المتاحة\n",
    "    for tick in ticks:\n",
    "        print(tick)\n",
    "\n",
    "    # حساب قيم الشمعة\n",
    "    open_price = ticks[0]['ask']  # أو 'bid' إذا كنت تريد العرض من منظور آخر\n",
    "    close_price = ticks[-1]['ask']\n",
    "    high_price = max(tick['ask'] for tick in ticks)\n",
    "    low_price = min(tick['ask'] for tick in ticks)\n",
    "    total_volume = sum(tick['volume'] for tick in ticks)\n",
    "\n",
    "    # طباعة بيانات الشمعة\n",
    "    print(f\"شمعة محسوبة من 3 تيكات للرمز {symbol}:\")\n",
    "    print(f\"الافتتاح (Open): {open_price}\")\n",
    "    print(f\"الإغلاق (Close): {close_price}\")\n",
    "    print(f\"الأعلى (High): {high_price}\")\n",
    "    print(f\"الأدنى (Low): {low_price}\")\n",
    "    print(f\"إجمالي حجم التداول (Volume): {total_volume}\")\n",
    "else:\n",
    "    print(\"لم يتم العثور على 3 تيكات كافية.\")\n",
    "\n",
    "# إنهاء الاتصال\n",
    "mt5.shutdown()\n"
   ]
  },
  {
   "cell_type": "code",
   "execution_count": 10,
   "id": "7d4f5244-2ae8-4a5f-b787-260826a31140",
   "metadata": {},
   "outputs": [
    {
     "name": "stdout",
     "output_type": "stream",
     "text": [
      "التيكات المجمعة: [(1729603940, 1.08262, 1.08262, 0., 0, 1729603940409, 6, 0.)\n",
      " (1729603945, 1.08261, 1.08261, 0., 0, 1729603945608, 6, 0.)\n",
      " (1729603946, 1.0826 , 1.0826 , 0., 0, 1729603946011, 6, 0.)]\n",
      "(1729603940, 1.08262, 1.08262, 0., 0, 1729603940409, 6, 0.)\n",
      "(1729603945, 1.08261, 1.08261, 0., 0, 1729603945608, 6, 0.)\n",
      "(1729603946, 1.0826, 1.0826, 0., 0, 1729603946011, 6, 0.)\n",
      "شمعة محسوبة من 3 تيكات للرمز EURUSD:\n",
      "الافتتاح (Open): 1.08262\n",
      "الإغلاق (Close): 1.0826\n",
      "الأعلى (High): 1.08262\n",
      "الأدنى (Low): 1.0826\n",
      "Tick Volume: 3\n"
     ]
    },
    {
     "data": {
      "text/plain": [
       "True"
      ]
     },
     "execution_count": 10,
     "metadata": {},
     "output_type": "execute_result"
    }
   ],
   "source": [
    "import MetaTrader5 as mt5\n",
    "from datetime import datetime\n",
    "import time\n",
    "\n",
    "# بدء الاتصال بـ MetaTrader 5\n",
    "if not mt5.initialize():\n",
    "    print(\"فشل في الاتصال بـ MetaTrader 5\")\n",
    "    quit()\n",
    "\n",
    "# تحديد الرمز الذي تريد جمع التيكات له (مثال: EURUSD)\n",
    "symbol = \"EURUSD\"\n",
    "\n",
    "# التحقق من وجود الرمز\n",
    "symbol_info = mt5.symbol_info(symbol)\n",
    "if symbol_info is None:\n",
    "    print(f\"الرمز {symbol} غير موجود\")\n",
    "    mt5.shutdown()\n",
    "    quit()\n",
    "\n",
    "# دالة لجمع 3 تيكات بعد تشغيل السكريبت\n",
    "def get_three_ticks():\n",
    "    while True:\n",
    "        # محاولة الحصول على 3 تيكات\n",
    "        ticks = mt5.copy_ticks_from(symbol, datetime.now(), 3, mt5.COPY_TICKS_ALL)\n",
    "        if len(ticks) >= 3:\n",
    "            return ticks\n",
    "        # انتظار بعض الوقت قبل المحاولة مجدداً\n",
    "        time.sleep(2)\n",
    "\n",
    "# استدعاء الدالة للحصول على 3 تيكات\n",
    "ticks = get_three_ticks()\n",
    "\n",
    "# طباعة التيكات المجمعة للتأكد من أنها ليست فارغة\n",
    "print(\"التيكات المجمعة:\", ticks)\n",
    "\n",
    "# التحقق من الحصول على التيكات الصحيحة\n",
    "if len(ticks) >= 3:\n",
    "    # طباعة بيانات التيكات للتأكد من الحقول المتاحة\n",
    "    for tick in ticks:\n",
    "        print(tick)\n",
    "\n",
    "    # حساب قيم الشمعة\n",
    "    open_price = ticks[0]['ask']  # أو 'bid' إذا كنت تريد العرض من منظور آخر\n",
    "    close_price = ticks[-1]['ask']\n",
    "    high_price = max(tick['ask'] for tick in ticks)\n",
    "    low_price = min(tick['ask'] for tick in ticks)\n",
    "    \n",
    "    # حساب Tick Volume (عدد التغيرات في التيكات)\n",
    "    tick_volume = len(ticks)\n",
    "\n",
    "    # طباعة بيانات الشمعة\n",
    "    print(f\"شمعة محسوبة من 3 تيكات للرمز {symbol}:\")\n",
    "    print(f\"الافتتاح (Open): {open_price}\")\n",
    "    print(f\"الإغلاق (Close): {close_price}\")\n",
    "    print(f\"الأعلى (High): {high_price}\")\n",
    "    print(f\"الأدنى (Low): {low_price}\")\n",
    "    print(f\"Tick Volume: {tick_volume}\")\n",
    "else:\n",
    "    print(\"لم يتم العثور على 3 تيكات كافية.\")\n",
    "\n",
    "# إنهاء الاتصال\n",
    "mt5.shutdown()\n"
   ]
  },
  {
   "cell_type": "code",
   "execution_count": null,
   "id": "44343c0a-4db4-4e8a-9c88-917d947d5920",
   "metadata": {},
   "outputs": [],
   "source": []
  }
 ],
 "metadata": {
  "kernelspec": {
   "display_name": "Python 3 (ipykernel)",
   "language": "python",
   "name": "python3"
  },
  "language_info": {
   "codemirror_mode": {
    "name": "ipython",
    "version": 3
   },
   "file_extension": ".py",
   "mimetype": "text/x-python",
   "name": "python",
   "nbconvert_exporter": "python",
   "pygments_lexer": "ipython3",
   "version": "3.12.4"
  }
 },
 "nbformat": 4,
 "nbformat_minor": 5
}
