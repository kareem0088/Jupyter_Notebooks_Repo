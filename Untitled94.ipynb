{
 "cells": [
  {
   "cell_type": "code",
   "execution_count": 7,
   "id": "666c9abb-1b02-47f6-9970-05485829e474",
   "metadata": {},
   "outputs": [
    {
     "name": "stdout",
     "output_type": "stream",
     "text": [
      "WARNING:tensorflow:5 out of the last 725 calls to <function TensorFlowTrainer.make_predict_function.<locals>.one_step_on_data_distributed at 0x000002A21E81E0C0> triggered tf.function retracing. Tracing is expensive and the excessive number of tracings could be due to (1) creating @tf.function repeatedly in a loop, (2) passing tensors with different shapes, (3) passing Python objects instead of tensors. For (1), please define your @tf.function outside of the loop. For (2), @tf.function has reduce_retracing=True option that can avoid unnecessary retracing. For (3), please refer to https://www.tensorflow.org/guide/function#controlling_retracing and https://www.tensorflow.org/api_docs/python/tf/function for  more details.\n",
      "Crack\n"
     ]
    }
   ],
   "source": [
    "import cv2\n",
    "import numpy as np\n",
    "from tensorflow.keras.models import load_model\n",
    "\n",
    "# تحميل النموذج المدرب\n",
    "model_path = r\"C:\\Users\\Access\\Desktop\\my_detection_model.keras\"\n",
    "model = load_model(model_path)\n",
    "\n",
    "# أسماء الفئات\n",
    "class_names = ['Crack', 'No Crack', 'Moisture']\n",
    "\n",
    "# مسار الصورة\n",
    "image_path = r\"C:\\Users\\Access\\Documents\\crack\\00004.jpg\"\n",
    "\n",
    "def preprocess_for_model(edges_img, target_size=(224, 224)):\n",
    "    img_resized = cv2.resize(edges_img, target_size)\n",
    "    if len(img_resized.shape) == 2:\n",
    "        img_resized = cv2.cvtColor(img_resized, cv2.COLOR_GRAY2RGB)\n",
    "    img_array = np.expand_dims(img_resized, axis=0)\n",
    "    img_array = img_array.astype('float32') / 255.0\n",
    "    return img_array\n",
    "\n",
    "def predict_crack(edges_img):\n",
    "    processed_img = preprocess_for_model(edges_img)\n",
    "    predictions = model.predict(processed_img, verbose=0)\n",
    "    predicted_class = np.argmax(predictions[0])\n",
    "    confidence = np.max(predictions[0])\n",
    "    return class_names[predicted_class], confidence\n",
    "\n",
    "# معالجة الصورة\n",
    "image = cv2.imread(image_path)\n",
    "gray = cv2.cvtColor(image, cv2.COLOR_BGR2GRAY)\n",
    "clahe = cv2.createCLAHE(clipLimit=2.0, tileGridSize=(8, 8))\n",
    "enhanced = clahe.apply(gray)\n",
    "edges = cv2.Canny(enhanced, 50, 150)\n",
    "\n",
    "# التصنيف\n",
    "predicted_class, confidence = predict_crack(edges)\n",
    "print(f\"{predicted_class}\")"
   ]
  },
  {
   "cell_type": "code",
   "execution_count": null,
   "id": "de922485-0987-4b39-b61a-b38ed3500a59",
   "metadata": {},
   "outputs": [],
   "source": []
  }
 ],
 "metadata": {
  "kernelspec": {
   "display_name": "Python 3 (ipykernel)",
   "language": "python",
   "name": "python3"
  },
  "language_info": {
   "codemirror_mode": {
    "name": "ipython",
    "version": 3
   },
   "file_extension": ".py",
   "mimetype": "text/x-python",
   "name": "python",
   "nbconvert_exporter": "python",
   "pygments_lexer": "ipython3",
   "version": "3.13.5"
  },
  "widgets": {
   "application/vnd.jupyter.widget-state+json": {
    "state": {},
    "version_major": 2,
    "version_minor": 0
   }
  }
 },
 "nbformat": 4,
 "nbformat_minor": 5
}
