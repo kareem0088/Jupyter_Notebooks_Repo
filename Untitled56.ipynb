{
 "cells": [
  {
   "cell_type": "code",
   "execution_count": 129,
   "id": "e1c68e71-882f-41e9-b476-65377543889a",
   "metadata": {},
   "outputs": [],
   "source": [
    "import pandas as pd\n",
    "df= pd.read_csv(r\"C:\\Users\\Access\\Documents\\AI ROBOT\\XAUUSD_Candlestick_1_M_BID_2020-1-1_2024-12-31.csv\")"
   ]
  },
  {
   "cell_type": "code",
   "execution_count": 130,
   "id": "3cb8b48c-8f08-4441-b9a5-4e2ab0153a84",
   "metadata": {},
   "outputs": [],
   "source": [
    "df=df.drop(columns='Volume')"
   ]
  },
  {
   "cell_type": "code",
   "execution_count": 131,
   "id": "ecccd6b2-4c8e-4f63-9721-5c962971e20a",
   "metadata": {},
   "outputs": [
    {
     "name": "stderr",
     "output_type": "stream",
     "text": [
      "C:\\Users\\Access\\AppData\\Local\\Temp\\ipykernel_30012\\422809626.py:8: FutureWarning: 'T' is deprecated and will be removed in a future version, please use 'min' instead.\n",
      "  df_5m = df.resample('5T').agg({\n"
     ]
    },
    {
     "name": "stdout",
     "output_type": "stream",
     "text": [
      "                         Open      High       Low     Close\n",
      "Gmt time                                                   \n",
      "2020-01-01 00:00:00  1516.915  1516.915  1516.915  1516.915\n",
      "2020-01-01 00:05:00  1516.915  1516.915  1516.915  1516.915\n",
      "2020-01-01 00:10:00  1516.915  1516.915  1516.915  1516.915\n",
      "2020-01-01 00:15:00  1516.915  1516.915  1516.915  1516.915\n",
      "2020-01-01 00:20:00  1516.915  1516.915  1516.915  1516.915\n",
      "...                       ...       ...       ...       ...\n",
      "2024-12-31 23:35:00  2624.255  2624.255  2624.255  2624.255\n",
      "2024-12-31 23:40:00  2624.255  2624.255  2624.255  2624.255\n",
      "2024-12-31 23:45:00  2624.255  2624.255  2624.255  2624.255\n",
      "2024-12-31 23:50:00  2624.255  2624.255  2624.255  2624.255\n",
      "2024-12-31 23:55:00  2624.255  2624.255  2624.255  2624.255\n",
      "\n",
      "[526176 rows x 4 columns]\n"
     ]
    }
   ],
   "source": [
    "import pandas as pd\n",
    "\n",
    "# تحويل العمود الزمني إلى نوع datetime وتعيينه كمؤشر\n",
    "df['Gmt time'] = pd.to_datetime(df['Gmt time'])\n",
    "df.set_index('Gmt time', inplace=True)\n",
    "\n",
    "# تحويل البيانات من 1 دقيقة إلى 5 دقائق\n",
    "df_5m = df.resample('5T').agg({\n",
    "    'Open': 'first',   # أول سعر افتتاح في الفاصل الزمني\n",
    "    'High': 'max',     # أعلى سعر في الفاصل الزمني\n",
    "    'Low': 'min',      # أقل سعر في الفاصل الزمني\n",
    "    'Close': 'last'    # آخر سعر إغلاق في الفاصل الزمني\n",
    "})\n",
    "\n",
    "# عرض النتيجة\n",
    "print(df_5m)"
   ]
  },
  {
   "cell_type": "code",
   "execution_count": 132,
   "id": "15826019-3dc7-4bdc-b4e7-17c5d61390b2",
   "metadata": {},
   "outputs": [],
   "source": [
    "df_5m=df_5m.reset_index(drop=False) "
   ]
  },
  {
   "cell_type": "code",
   "execution_count": 133,
   "id": "4a49bc92-4399-49ed-ad55-2d78c28eb622",
   "metadata": {},
   "outputs": [
    {
     "name": "stdout",
     "output_type": "stream",
     "text": [
      "                  Gmt time      Open      High       Low     Close  \\\n",
      "0      2020-01-01 00:00:00  1516.915  1516.915  1516.915  1516.915   \n",
      "1      2020-01-01 00:05:00  1516.915  1516.915  1516.915  1516.915   \n",
      "2      2020-01-01 00:10:00  1516.915  1516.915  1516.915  1516.915   \n",
      "3      2020-01-01 00:15:00  1516.915  1516.915  1516.915  1516.915   \n",
      "4      2020-01-01 00:20:00  1516.915  1516.915  1516.915  1516.915   \n",
      "...                    ...       ...       ...       ...       ...   \n",
      "526171 2024-12-31 23:35:00  2624.255  2624.255  2624.255  2624.255   \n",
      "526172 2024-12-31 23:40:00  2624.255  2624.255  2624.255  2624.255   \n",
      "526173 2024-12-31 23:45:00  2624.255  2624.255  2624.255  2624.255   \n",
      "526174 2024-12-31 23:50:00  2624.255  2624.255  2624.255  2624.255   \n",
      "526175 2024-12-31 23:55:00  2624.255  2624.255  2624.255  2624.255   \n",
      "\n",
      "        trade_type_shooting  trade_result_shooting  tp_shooting  sl_shooting  \n",
      "0                         0                      0          NaN          NaN  \n",
      "1                         0                      0          NaN          NaN  \n",
      "2                         0                      0          NaN          NaN  \n",
      "3                         0                      0          NaN          NaN  \n",
      "4                         0                      0          NaN          NaN  \n",
      "...                     ...                    ...          ...          ...  \n",
      "526171                    0                      0          NaN          NaN  \n",
      "526172                    0                      0          NaN          NaN  \n",
      "526173                    0                      0          NaN          NaN  \n",
      "526174                    0                      0          NaN          NaN  \n",
      "526175                    0                      0          NaN          NaN  \n",
      "\n",
      "[526176 rows x 9 columns]\n"
     ]
    }
   ],
   "source": [
    "import pandas as pd\n",
    "\n",
    "df = df_5m.copy()\n",
    "\n",
    "# تعريف دالة التحقق من الشمعة الكبيرة (تبقى كما هي)\n",
    "def is_large_body(candle):\n",
    "    body = abs(candle['Open'] - candle['Close'])\n",
    "    lower_shadow = abs(candle['Low'] - min(candle['Open'], candle['Close']))\n",
    "    upper_shadow = abs(candle['High'] - max(candle['Open'], candle['Close']))\n",
    "    return (body * 2) > (lower_shadow + upper_shadow)\n",
    "\n",
    "# تعديل دالة الهامر لتصبح شمعة Shooting Star (مقلوبة)\n",
    "def is_shooting_star(candle):\n",
    "    body = abs(candle['Open'] - candle['Close'])\n",
    "    upper_shadow = abs(candle['High'] - max(candle['Open'], candle['Close']))\n",
    "    lower_shadow = abs(candle['Low'] - min(candle['Open'], candle['Close']))\n",
    "    return upper_shadow > 0.1 * body and lower_shadow < body\n",
    "\n",
    "# تعديل دالة الصفقة لصفقات البيع\n",
    "def calculate_sell_trade_shooting_star(row, df, tp_multiplier=1.5, sl_multiplier=0.5):\n",
    "    idx = row.name\n",
    "    if idx == df.index[0]:\n",
    "        return 0, None, None\n",
    "    \n",
    "    first_candle = df.loc[df.index[df.index.get_loc(idx) - 1]]\n",
    "    second_candle = row\n",
    "    \n",
    "    # الشرط المعكوس: شمعة صاعدة كبيرة تليها شمعة Shooting Star\n",
    "    if is_large_body(first_candle) and first_candle['Open'] < first_candle['Close'] and is_shooting_star(second_candle) and second_candle['Open'] > second_candle['Close']:\n",
    "        points = abs(first_candle['Open'] - first_candle['Close'])\n",
    "        #take_profit = second_candle['Close'] - (points * tp_multiplier)\n",
    "        stop_loss = second_candle['Close'] + (points * sl_multiplier)\n",
    "        take_profit =  second_candle['Close'] - (tp_multiplier*abs(stop_loss - second_candle['Close']))\n",
    "\n",
    "        return 1, take_profit, stop_loss\n",
    "    \n",
    "    return 0, None, None\n",
    "\n",
    "# تطبيق الأعمدة الجديدة للصفقات البيعية\n",
    "df['sell_trade_shooting'], df['tp_sell_shooting'], df['sl_sell_shooting'] = zip(*df.apply(\n",
    "    lambda row: calculate_sell_trade_shooting_star(row, df), axis=1))\n",
    "\n",
    "# تحديد نوع الصفقة للبيع\n",
    "df['trade_type_shooting'] = df.apply(lambda row: -1 if row['sell_trade_shooting'] == 1 else 0, axis=1)\n",
    "\n",
    "# دمج أعمدة TP و SL\n",
    "df['tp_shooting'] = df.apply(lambda row: row['tp_sell_shooting'] if row['trade_type_shooting'] == -1 else None, axis=1)\n",
    "df['sl_shooting'] = df.apply(lambda row: row['sl_sell_shooting'] if row['trade_type_shooting'] == -1 else None, axis=1)\n",
    "\n",
    "\n",
    "# تعديل دالة تحديد نتيجة الصفقة للبيع\n",
    "def determine_trade_result_shooting(row, df):\n",
    "    idx = row.name\n",
    "    if row['trade_type_shooting'] == -1:  # صفقة بيع\n",
    "        for i in range(df.index.get_loc(idx) + 1, len(df)):\n",
    "            future_row = df.iloc[i]\n",
    "            if future_row['Low'] <= row['tp_shooting']:\n",
    "                return 2  # رابحة\n",
    "            elif future_row['High'] >= row['sl_shooting']:\n",
    "                return 1  # خاسرة\n",
    "    return 0  # لا توجد نتيجة\n",
    "\n",
    "\n",
    "\n",
    "\n",
    "# تطبيق دالة النتائج\n",
    "df['trade_result_shooting'] = df.apply(lambda row: determine_trade_result_shooting(row, df), axis=1)\n",
    "\n",
    "# عرض النتائج\n",
    "print(df[['Gmt time','Open', 'High', 'Low', 'Close', 'trade_type_shooting', 'trade_result_shooting', 'tp_shooting', 'sl_shooting']])"
   ]
  },
  {
   "cell_type": "code",
   "execution_count": 134,
   "id": "bb22cfb1-aad6-434b-9e2a-d4a329610724",
   "metadata": {},
   "outputs": [],
   "source": [
    "df = df[df['trade_type_shooting'] != 0]\n"
   ]
  },
  {
   "cell_type": "code",
   "execution_count": 135,
   "id": "0c35983d-f7c7-404d-8b1d-f88922bb1406",
   "metadata": {},
   "outputs": [],
   "source": [
    "df = df[['Gmt time','Open', 'High', 'Low', 'Close', 'trade_type_shooting', 'trade_result_shooting', 'tp_shooting', 'sl_shooting']]"
   ]
  },
  {
   "cell_type": "code",
   "execution_count": 136,
   "id": "be878a2b-09f8-427c-bb7c-ffb600ecc2e2",
   "metadata": {},
   "outputs": [
    {
     "data": {
      "text/html": [
       "<div>\n",
       "<style scoped>\n",
       "    .dataframe tbody tr th:only-of-type {\n",
       "        vertical-align: middle;\n",
       "    }\n",
       "\n",
       "    .dataframe tbody tr th {\n",
       "        vertical-align: top;\n",
       "    }\n",
       "\n",
       "    .dataframe thead th {\n",
       "        text-align: right;\n",
       "    }\n",
       "</style>\n",
       "<table border=\"1\" class=\"dataframe\">\n",
       "  <thead>\n",
       "    <tr style=\"text-align: right;\">\n",
       "      <th></th>\n",
       "      <th>Gmt time</th>\n",
       "      <th>Open</th>\n",
       "      <th>High</th>\n",
       "      <th>Low</th>\n",
       "      <th>Close</th>\n",
       "      <th>trade_type_shooting</th>\n",
       "      <th>trade_result_shooting</th>\n",
       "      <th>tp_shooting</th>\n",
       "      <th>sl_shooting</th>\n",
       "    </tr>\n",
       "  </thead>\n",
       "  <tbody>\n",
       "    <tr>\n",
       "      <th>330</th>\n",
       "      <td>2020-01-02 03:30:00</td>\n",
       "      <td>1520.295</td>\n",
       "      <td>1520.435</td>\n",
       "      <td>1520.185</td>\n",
       "      <td>1520.215</td>\n",
       "      <td>-1</td>\n",
       "      <td>1</td>\n",
       "      <td>1520.08000</td>\n",
       "      <td>1520.3050</td>\n",
       "    </tr>\n",
       "    <tr>\n",
       "      <th>334</th>\n",
       "      <td>2020-01-02 03:50:00</td>\n",
       "      <td>1520.355</td>\n",
       "      <td>1520.435</td>\n",
       "      <td>1520.165</td>\n",
       "      <td>1520.165</td>\n",
       "      <td>-1</td>\n",
       "      <td>1</td>\n",
       "      <td>1519.91225</td>\n",
       "      <td>1520.3335</td>\n",
       "    </tr>\n",
       "    <tr>\n",
       "      <th>361</th>\n",
       "      <td>2020-01-02 06:05:00</td>\n",
       "      <td>1520.505</td>\n",
       "      <td>1520.768</td>\n",
       "      <td>1520.345</td>\n",
       "      <td>1520.405</td>\n",
       "      <td>-1</td>\n",
       "      <td>1</td>\n",
       "      <td>1520.12750</td>\n",
       "      <td>1520.5900</td>\n",
       "    </tr>\n",
       "    <tr>\n",
       "      <th>372</th>\n",
       "      <td>2020-01-02 07:00:00</td>\n",
       "      <td>1520.945</td>\n",
       "      <td>1521.375</td>\n",
       "      <td>1520.435</td>\n",
       "      <td>1520.575</td>\n",
       "      <td>-1</td>\n",
       "      <td>2</td>\n",
       "      <td>1520.30500</td>\n",
       "      <td>1520.7550</td>\n",
       "    </tr>\n",
       "    <tr>\n",
       "      <th>375</th>\n",
       "      <td>2020-01-02 07:15:00</td>\n",
       "      <td>1520.415</td>\n",
       "      <td>1520.525</td>\n",
       "      <td>1519.825</td>\n",
       "      <td>1519.875</td>\n",
       "      <td>-1</td>\n",
       "      <td>2</td>\n",
       "      <td>1519.65000</td>\n",
       "      <td>1520.0250</td>\n",
       "    </tr>\n",
       "    <tr>\n",
       "      <th>...</th>\n",
       "      <td>...</td>\n",
       "      <td>...</td>\n",
       "      <td>...</td>\n",
       "      <td>...</td>\n",
       "      <td>...</td>\n",
       "      <td>...</td>\n",
       "      <td>...</td>\n",
       "      <td>...</td>\n",
       "      <td>...</td>\n",
       "    </tr>\n",
       "    <tr>\n",
       "      <th>526083</th>\n",
       "      <td>2024-12-31 16:15:00</td>\n",
       "      <td>2624.915</td>\n",
       "      <td>2625.198</td>\n",
       "      <td>2623.164</td>\n",
       "      <td>2623.164</td>\n",
       "      <td>-1</td>\n",
       "      <td>1</td>\n",
       "      <td>2621.72175</td>\n",
       "      <td>2624.1255</td>\n",
       "    </tr>\n",
       "    <tr>\n",
       "      <th>526091</th>\n",
       "      <td>2024-12-31 16:55:00</td>\n",
       "      <td>2625.495</td>\n",
       "      <td>2625.835</td>\n",
       "      <td>2624.864</td>\n",
       "      <td>2625.165</td>\n",
       "      <td>-1</td>\n",
       "      <td>2</td>\n",
       "      <td>2624.70675</td>\n",
       "      <td>2625.4705</td>\n",
       "    </tr>\n",
       "    <tr>\n",
       "      <th>526103</th>\n",
       "      <td>2024-12-31 17:55:00</td>\n",
       "      <td>2624.835</td>\n",
       "      <td>2625.265</td>\n",
       "      <td>2623.955</td>\n",
       "      <td>2624.155</td>\n",
       "      <td>-1</td>\n",
       "      <td>2</td>\n",
       "      <td>2623.57000</td>\n",
       "      <td>2624.5450</td>\n",
       "    </tr>\n",
       "    <tr>\n",
       "      <th>526130</th>\n",
       "      <td>2024-12-31 20:10:00</td>\n",
       "      <td>2624.404</td>\n",
       "      <td>2624.524</td>\n",
       "      <td>2622.948</td>\n",
       "      <td>2623.248</td>\n",
       "      <td>-1</td>\n",
       "      <td>2</td>\n",
       "      <td>2622.96300</td>\n",
       "      <td>2623.4380</td>\n",
       "    </tr>\n",
       "    <tr>\n",
       "      <th>526149</th>\n",
       "      <td>2024-12-31 21:45:00</td>\n",
       "      <td>2624.395</td>\n",
       "      <td>2624.675</td>\n",
       "      <td>2623.908</td>\n",
       "      <td>2624.008</td>\n",
       "      <td>-1</td>\n",
       "      <td>2</td>\n",
       "      <td>2623.86550</td>\n",
       "      <td>2624.1030</td>\n",
       "    </tr>\n",
       "  </tbody>\n",
       "</table>\n",
       "<p>26760 rows × 9 columns</p>\n",
       "</div>"
      ],
      "text/plain": [
       "                  Gmt time      Open      High       Low     Close  \\\n",
       "330    2020-01-02 03:30:00  1520.295  1520.435  1520.185  1520.215   \n",
       "334    2020-01-02 03:50:00  1520.355  1520.435  1520.165  1520.165   \n",
       "361    2020-01-02 06:05:00  1520.505  1520.768  1520.345  1520.405   \n",
       "372    2020-01-02 07:00:00  1520.945  1521.375  1520.435  1520.575   \n",
       "375    2020-01-02 07:15:00  1520.415  1520.525  1519.825  1519.875   \n",
       "...                    ...       ...       ...       ...       ...   \n",
       "526083 2024-12-31 16:15:00  2624.915  2625.198  2623.164  2623.164   \n",
       "526091 2024-12-31 16:55:00  2625.495  2625.835  2624.864  2625.165   \n",
       "526103 2024-12-31 17:55:00  2624.835  2625.265  2623.955  2624.155   \n",
       "526130 2024-12-31 20:10:00  2624.404  2624.524  2622.948  2623.248   \n",
       "526149 2024-12-31 21:45:00  2624.395  2624.675  2623.908  2624.008   \n",
       "\n",
       "        trade_type_shooting  trade_result_shooting  tp_shooting  sl_shooting  \n",
       "330                      -1                      1   1520.08000    1520.3050  \n",
       "334                      -1                      1   1519.91225    1520.3335  \n",
       "361                      -1                      1   1520.12750    1520.5900  \n",
       "372                      -1                      2   1520.30500    1520.7550  \n",
       "375                      -1                      2   1519.65000    1520.0250  \n",
       "...                     ...                    ...          ...          ...  \n",
       "526083                   -1                      1   2621.72175    2624.1255  \n",
       "526091                   -1                      2   2624.70675    2625.4705  \n",
       "526103                   -1                      2   2623.57000    2624.5450  \n",
       "526130                   -1                      2   2622.96300    2623.4380  \n",
       "526149                   -1                      2   2623.86550    2624.1030  \n",
       "\n",
       "[26760 rows x 9 columns]"
      ]
     },
     "execution_count": 136,
     "metadata": {},
     "output_type": "execute_result"
    }
   ],
   "source": [
    "df"
   ]
  },
  {
   "cell_type": "code",
   "execution_count": 137,
   "id": "b197def9-bae9-4023-9ab1-9c878c36af1e",
   "metadata": {},
   "outputs": [
    {
     "name": "stdout",
     "output_type": "stream",
     "text": [
      "                       Count Percentage (%)\n",
      "trade_result_shooting                      \n",
      "1                      13304          49.7%\n",
      "2                      13456          50.3%\n"
     ]
    }
   ],
   "source": [
    "# حساب التكرارات والنسب المئوية\n",
    "\n",
    "'''\n",
    "2 , 0.1 , 1.5 ,0.5 \n",
    "\n",
    "'''\n",
    "\n",
    "\n",
    "result = df['trade_result_shooting'].value_counts().sort_index()\n",
    "percent = df['trade_result_shooting'].value_counts(normalize=True).sort_index() * 100\n",
    "\n",
    "# دمج النتائج في DataFrame\n",
    "result_df = pd.DataFrame({\n",
    "    'Count': result,\n",
    "    'Percentage (%)': percent.round(1)})\n",
    "\n",
    "result_df['Percentage (%)'] = result_df['Percentage (%)'].astype(str) + '%'\n",
    "\n",
    "print(result_df)"
   ]
  },
  {
   "cell_type": "code",
   "execution_count": 126,
   "id": "43ddc622-93c5-485f-8b0a-607748113325",
   "metadata": {},
   "outputs": [
    {
     "name": "stdout",
     "output_type": "stream",
     "text": [
      "                       Count Percentage (%)\n",
      "trade_result_shooting                      \n",
      "1                      10779          49.9%\n",
      "2                      10819          50.1%\n"
     ]
    }
   ],
   "source": [
    "# حساب التكرارات والنسب المئوية\n",
    "\n",
    "'''\n",
    "2 , 0.2 , 1.5 ,0.5 \n",
    "\n",
    "'''\n",
    "\n",
    "\n",
    "result = df['trade_result_shooting'].value_counts().sort_index()\n",
    "percent = df['trade_result_shooting'].value_counts(normalize=True).sort_index() * 100\n",
    "\n",
    "# دمج النتائج في DataFrame\n",
    "result_df = pd.DataFrame({\n",
    "    'Count': result,\n",
    "    'Percentage (%)': percent.round(1)})\n",
    "\n",
    "result_df['Percentage (%)'] = result_df['Percentage (%)'].astype(str) + '%'\n",
    "\n",
    "print(result_df)"
   ]
  },
  {
   "cell_type": "code",
   "execution_count": 115,
   "id": "4603ed2e-fd9d-497b-9013-434769fa1ac7",
   "metadata": {},
   "outputs": [
    {
     "name": "stdout",
     "output_type": "stream",
     "text": [
      "                       Count Percentage (%)\n",
      "trade_result_shooting                      \n",
      "1                       6363          50.2%\n",
      "2                       6307          49.8%\n"
     ]
    }
   ],
   "source": [
    "# حساب التكرارات والنسب المئوية\n",
    "\n",
    "'''\n",
    "2 , 0.5 , 1.5 ,0.5 \n",
    "\n",
    "'''\n",
    "\n",
    "\n",
    "result = df['trade_result_shooting'].value_counts().sort_index()\n",
    "percent = df['trade_result_shooting'].value_counts(normalize=True).sort_index() * 100\n",
    "\n",
    "# دمج النتائج في DataFrame\n",
    "result_df = pd.DataFrame({\n",
    "    'Count': result,\n",
    "    'Percentage (%)': percent.round(1)})\n",
    "\n",
    "result_df['Percentage (%)'] = result_df['Percentage (%)'].astype(str) + '%'\n",
    "\n",
    "print(result_df)"
   ]
  },
  {
   "cell_type": "code",
   "execution_count": 115,
   "id": "2fb56020-aabb-438e-ba80-0a2c75404caa",
   "metadata": {},
   "outputs": [
    {
     "name": "stdout",
     "output_type": "stream",
     "text": [
      "                       Count Percentage (%)\n",
      "trade_result_shooting                      \n",
      "1                       6363          50.2%\n",
      "2                       6307          49.8%\n"
     ]
    }
   ],
   "source": [
    "# حساب التكرارات والنسب المئوية\n",
    "\n",
    "'''\n",
    "2 , 0.5 , 1.5 ,0.5 \n",
    "\n",
    "'''\n",
    "\n",
    "\n",
    "result = df['trade_result_shooting'].value_counts().sort_index()\n",
    "percent = df['trade_result_shooting'].value_counts(normalize=True).sort_index() * 100\n",
    "\n",
    "# دمج النتائج في DataFrame\n",
    "result_df = pd.DataFrame({\n",
    "    'Count': result,\n",
    "    'Percentage (%)': percent.round(1)})\n",
    "\n",
    "result_df['Percentage (%)'] = result_df['Percentage (%)'].astype(str) + '%'\n",
    "\n",
    "print(result_df)"
   ]
  },
  {
   "cell_type": "code",
   "execution_count": 111,
   "id": "0dedd8b3-27a3-4648-9fb1-7172726dff76",
   "metadata": {},
   "outputs": [
    {
     "name": "stdout",
     "output_type": "stream",
     "text": [
      "                       Count Percentage (%)\n",
      "trade_result_shooting                      \n",
      "1                       6363          50.2%\n",
      "2                       6307          49.8%\n"
     ]
    }
   ],
   "source": [
    "# حساب التكرارات والنسب المئوية\n",
    "result = df['trade_result_shooting'].value_counts().sort_index()\n",
    "percent = df['trade_result_shooting'].value_counts(normalize=True).sort_index() * 100\n",
    "\n",
    "# دمج النتائج في DataFrame\n",
    "result_df = pd.DataFrame({\n",
    "    'Count': result,\n",
    "    'Percentage (%)': percent.round(1)})\n",
    "\n",
    "result_df['Percentage (%)'] = result_df['Percentage (%)'].astype(str) + '%'\n",
    "\n",
    "print(result_df)"
   ]
  },
  {
   "cell_type": "code",
   "execution_count": 99,
   "id": "eeaf99cf-08cb-4897-b214-c59a4d2517ee",
   "metadata": {},
   "outputs": [
    {
     "name": "stdout",
     "output_type": "stream",
     "text": [
      "                       Count Percentage (%)\n",
      "trade_result_shooting                      \n",
      "1                       7332          57.9%\n",
      "2                       5338          42.1%\n"
     ]
    }
   ],
   "source": [
    "# حساب التكرارات والنسب المئوية\n",
    "result = df['trade_result_shooting'].value_counts().sort_index()\n",
    "percent = df['trade_result_shooting'].value_counts(normalize=True).sort_index() * 100\n",
    "\n",
    "# دمج النتائج في DataFrame\n",
    "result_df = pd.DataFrame({\n",
    "    'Count': result,\n",
    "    'Percentage (%)': percent.round(1)})\n",
    "\n",
    "result_df['Percentage (%)'] = result_df['Percentage (%)'].astype(str) + '%'\n",
    "\n",
    "print(result_df)"
   ]
  },
  {
   "cell_type": "code",
   "execution_count": 88,
   "id": "35f2989d-ed7f-49cf-ad28-9894a8f1a313",
   "metadata": {},
   "outputs": [
    {
     "name": "stdout",
     "output_type": "stream",
     "text": [
      "                       Count Percentage (%)\n",
      "trade_result_shooting                      \n",
      "1                       5015          39.6%\n",
      "2                       7655          60.4%\n"
     ]
    }
   ],
   "source": [
    "# حساب التكرارات والنسب المئوية\n",
    "result = df['trade_result_shooting'].value_counts().sort_index()\n",
    "percent = df['trade_result_shooting'].value_counts(normalize=True).sort_index() * 100\n",
    "\n",
    "# دمج النتائج في DataFrame\n",
    "result_df = pd.DataFrame({\n",
    "    'Count': result,\n",
    "    'Percentage (%)': percent.round(1)})\n",
    "\n",
    "result_df['Percentage (%)'] = result_df['Percentage (%)'].astype(str) + '%'\n",
    "\n",
    "print(result_df)"
   ]
  },
  {
   "cell_type": "code",
   "execution_count": 79,
   "id": "9fb9e413-8c74-4e4a-aa14-18e61cf9677c",
   "metadata": {},
   "outputs": [
    {
     "name": "stdout",
     "output_type": "stream",
     "text": [
      "                       Count Percentage (%)\n",
      "trade_result_shooting                      \n",
      "1                       2113          55.0%\n",
      "2                       1730          45.0%\n"
     ]
    }
   ],
   "source": [
    "# حساب التكرارات والنسب المئوية\n",
    "result = df['trade_result_shooting'].value_counts().sort_index()\n",
    "percent = df['trade_result_shooting'].value_counts(normalize=True).sort_index() * 100\n",
    "\n",
    "# دمج النتائج في DataFrame\n",
    "result_df = pd.DataFrame({\n",
    "    'Count': result,\n",
    "    'Percentage (%)': percent.round(1)})\n",
    "\n",
    "result_df['Percentage (%)'] = result_df['Percentage (%)'].astype(str) + '%'\n",
    "\n",
    "print(result_df)"
   ]
  },
  {
   "cell_type": "code",
   "execution_count": 70,
   "id": "8340cc85-db8a-4926-869d-571374c7cbc6",
   "metadata": {},
   "outputs": [
    {
     "name": "stdout",
     "output_type": "stream",
     "text": [
      "                       Count Percentage (%)\n",
      "trade_result_shooting                      \n",
      "1                       6994          55.2%\n",
      "2                       5676          44.8%\n"
     ]
    }
   ],
   "source": [
    "# حساب التكرارات والنسب المئوية\n",
    "result = df['trade_result_shooting'].value_counts().sort_index()\n",
    "percent = df['trade_result_shooting'].value_counts(normalize=True).sort_index() * 100\n",
    "\n",
    "# دمج النتائج في DataFrame\n",
    "result_df = pd.DataFrame({\n",
    "    'Count': result,\n",
    "    'Percentage (%)': percent.round(1)})\n",
    "\n",
    "result_df['Percentage (%)'] = result_df['Percentage (%)'].astype(str) + '%'\n",
    "\n",
    "print(result_df)"
   ]
  },
  {
   "cell_type": "code",
   "execution_count": 61,
   "id": "0cf3b12f-5057-4483-8f68-3311156c100c",
   "metadata": {},
   "outputs": [
    {
     "name": "stdout",
     "output_type": "stream",
     "text": [
      "                       Count Percentage (%)\n",
      "trade_result_shooting                      \n",
      "1                       5015          39.6%\n",
      "2                       7655          60.4%\n"
     ]
    }
   ],
   "source": [
    "# حساب التكرارات والنسب المئوية\n",
    "result = df['trade_result_shooting'].value_counts().sort_index()\n",
    "percent = df['trade_result_shooting'].value_counts(normalize=True).sort_index() * 100\n",
    "\n",
    "# دمج النتائج في DataFrame\n",
    "result_df = pd.DataFrame({\n",
    "    'Count': result,\n",
    "    'Percentage (%)': percent.round(1)})\n",
    "\n",
    "result_df['Percentage (%)'] = result_df['Percentage (%)'].astype(str) + '%'\n",
    "\n",
    "print(result_df)"
   ]
  },
  {
   "cell_type": "code",
   "execution_count": 52,
   "id": "87b77cd2-63d5-4bfa-aa73-3d4187cd5528",
   "metadata": {},
   "outputs": [
    {
     "name": "stdout",
     "output_type": "stream",
     "text": [
      "                       Count Percentage (%)\n",
      "trade_result_shooting                      \n",
      "1                       1518          39.5%\n",
      "2                       2325          60.5%\n"
     ]
    }
   ],
   "source": [
    "# حساب التكرارات والنسب المئوية\n",
    "result = df['trade_result_shooting'].value_counts().sort_index()\n",
    "percent = df['trade_result_shooting'].value_counts(normalize=True).sort_index() * 100\n",
    "\n",
    "# دمج النتائج في DataFrame\n",
    "result_df = pd.DataFrame({\n",
    "    'Count': result,\n",
    "    'Percentage (%)': percent.round(1)})\n",
    "\n",
    "result_df['Percentage (%)'] = result_df['Percentage (%)'].astype(str) + '%'\n",
    "\n",
    "print(result_df)"
   ]
  },
  {
   "cell_type": "code",
   "execution_count": 39,
   "id": "4f2f57b6-6e93-41aa-b4a8-44318952421c",
   "metadata": {},
   "outputs": [
    {
     "name": "stdout",
     "output_type": "stream",
     "text": [
      "                       Count Percentage (%)\n",
      "trade_result_shooting                      \n",
      "1                       2580          39.8%\n",
      "2                       3904          60.2%\n"
     ]
    }
   ],
   "source": [
    "# حساب التكرارات والنسب المئوية\n",
    "result = df['trade_result_shooting'].value_counts().sort_index()\n",
    "percent = df['trade_result_shooting'].value_counts(normalize=True).sort_index() * 100\n",
    "\n",
    "# دمج النتائج في DataFrame\n",
    "result_df = pd.DataFrame({\n",
    "    'Count': result,\n",
    "    'Percentage (%)': percent.round(1)})\n",
    "\n",
    "result_df['Percentage (%)'] = result_df['Percentage (%)'].astype(str) + '%'\n",
    "\n",
    "print(result_df)"
   ]
  },
  {
   "cell_type": "code",
   "execution_count": 40,
   "id": "c1651d4d-b3dd-4f0c-aee4-25c4e6ef7a59",
   "metadata": {},
   "outputs": [
    {
     "name": "stdout",
     "output_type": "stream",
     "text": [
      "                       Count Percentage (%)\n",
      "trade_result_shooting                      \n",
      "1                       2580          39.8%\n",
      "2                       3904          60.2%\n"
     ]
    }
   ],
   "source": [
    "# حساب التكرارات والنسب المئوية\n",
    "result = df['trade_result_shooting'].value_counts().sort_index()\n",
    "percent = df['trade_result_shooting'].value_counts(normalize=True).sort_index() * 100\n",
    "\n",
    "# دمج النتائج في DataFrame\n",
    "result_df = pd.DataFrame({\n",
    "    'Count': result,\n",
    "    'Percentage (%)': percent.round(1)})\n",
    "\n",
    "result_df['Percentage (%)'] = result_df['Percentage (%)'].astype(str) + '%'\n",
    "\n",
    "print(result_df)"
   ]
  },
  {
   "cell_type": "code",
   "execution_count": 41,
   "id": "08b0a6a3-3334-45ed-8bc2-83329d444ac0",
   "metadata": {},
   "outputs": [
    {
     "name": "stdout",
     "output_type": "stream",
     "text": [
      "                       Count Percentage (%)\n",
      "trade_result_shooting                      \n",
      "1                       2580          39.8%\n",
      "2                       3904          60.2%\n"
     ]
    }
   ],
   "source": [
    "# حساب التكرارات والنسب المئوية\n",
    "result = df['trade_result_shooting'].value_counts().sort_index()\n",
    "percent = df['trade_result_shooting'].value_counts(normalize=True).sort_index() * 100\n",
    "\n",
    "# دمج النتائج في DataFrame\n",
    "result_df = pd.DataFrame({\n",
    "    'Count': result,\n",
    "    'Percentage (%)': percent.round(1)})\n",
    "\n",
    "result_df['Percentage (%)'] = result_df['Percentage (%)'].astype(str) + '%'\n",
    "\n",
    "print(result_df)"
   ]
  },
  {
   "cell_type": "code",
   "execution_count": 138,
   "id": "a1f51a61-2c15-432e-a4e7-67da4c5a45a9",
   "metadata": {},
   "outputs": [
    {
     "name": "stdout",
     "output_type": "stream",
     "text": [
      "trade_type  Losing Trades  Winning Trades  Total Trades\n",
      "2020-01-02              8               6            14\n",
      "2020-01-03              9               9            18\n",
      "2020-01-06             14               8            22\n",
      "2020-01-07             12              12            24\n",
      "2020-01-08             11               7            18\n",
      "...                   ...             ...           ...\n",
      "2024-12-25              0               1             1\n",
      "2024-12-26              6               7            13\n",
      "2024-12-27             10              17            27\n",
      "2024-12-30              8               7            15\n",
      "2024-12-31              9              11            20\n",
      "\n",
      "[1304 rows x 3 columns]\n"
     ]
    }
   ],
   "source": [
    "import pandas as pd\n",
    "\n",
    "# تصفية الصفقات التي تحتوي على نتائج\n",
    "df = df[df['trade_result_shooting'] != 0]\n",
    "\n",
    "# استخراج التاريخ فقط\n",
    "df['Gmt date'] = df['Gmt time'].dt.date\n",
    "\n",
    "# تصنيف الصفقات\n",
    "df['trade_type'] = df['trade_result_shooting'].apply(lambda x: 'رابحة' if x == 2 else 'خاسرة')\n",
    "\n",
    "# حساب عدد الصفقات لكل يوم\n",
    "daily_trades = df.groupby(['Gmt date', 'trade_type']).size().unstack(fill_value=0)\n",
    "\n",
    "# إعادة تسمية الأعمدة\n",
    "daily_trades = daily_trades.rename(columns={'رابحة': 'Winning Trades', 'خاسرة': 'Losing Trades'})\n",
    "\n",
    "# إنشاء نطاق تواريخ شامل من البيانات الأصلية\n",
    "start_date = df['Gmt time'].min().normalize()\n",
    "end_date = df['Gmt time'].max().normalize()\n",
    "all_dates = pd.date_range(start=start_date, end=end_date, freq='D')\n",
    "\n",
    "# تحويل الفهرس إلى تنسيق تاريخي\n",
    "daily_trades.index = pd.to_datetime(daily_trades.index)\n",
    "\n",
    "# إعادة الفهرس ليشمل جميع التواريخ\n",
    "daily_trades = daily_trades.reindex(all_dates, fill_value=0)\n",
    "\n",
    "# تصفية أيام السبت (5) والأحد (6) باستخدام weekday\n",
    "daily_trades = daily_trades[daily_trades.index.weekday < 5]  # 0-4 = من الاثنين إلى الجمعة\n",
    "\n",
    "# إضافة عمود الصفقات الكلية\n",
    "daily_trades['Total Trades'] = daily_trades['Winning Trades'] + daily_trades['Losing Trades']\n",
    "\n",
    "# إعادة تنسيق الفهرس لعرضه كتواريخ بدون وقت\n",
    "daily_trades.index = daily_trades.index.date\n",
    "\n",
    "print(daily_trades)"
   ]
  },
  {
   "cell_type": "code",
   "execution_count": 139,
   "id": "4ad21d66-0602-4673-98b1-3338071e3b86",
   "metadata": {},
   "outputs": [
    {
     "data": {
      "text/html": [
       "<div>\n",
       "<style scoped>\n",
       "    .dataframe tbody tr th:only-of-type {\n",
       "        vertical-align: middle;\n",
       "    }\n",
       "\n",
       "    .dataframe tbody tr th {\n",
       "        vertical-align: top;\n",
       "    }\n",
       "\n",
       "    .dataframe thead th {\n",
       "        text-align: right;\n",
       "    }\n",
       "</style>\n",
       "<table border=\"1\" class=\"dataframe\">\n",
       "  <thead>\n",
       "    <tr style=\"text-align: right;\">\n",
       "      <th>trade_type</th>\n",
       "      <th>Losing Trades</th>\n",
       "      <th>Winning Trades</th>\n",
       "      <th>Total Trades</th>\n",
       "    </tr>\n",
       "  </thead>\n",
       "  <tbody>\n",
       "    <tr>\n",
       "      <th>mean</th>\n",
       "      <td>10.1</td>\n",
       "      <td>10.2</td>\n",
       "      <td>20.3</td>\n",
       "    </tr>\n",
       "    <tr>\n",
       "      <th>min</th>\n",
       "      <td>0.0</td>\n",
       "      <td>0.0</td>\n",
       "      <td>0.0</td>\n",
       "    </tr>\n",
       "    <tr>\n",
       "      <th>25%</th>\n",
       "      <td>7.0</td>\n",
       "      <td>8.0</td>\n",
       "      <td>17.0</td>\n",
       "    </tr>\n",
       "    <tr>\n",
       "      <th>50%</th>\n",
       "      <td>10.0</td>\n",
       "      <td>10.0</td>\n",
       "      <td>21.0</td>\n",
       "    </tr>\n",
       "    <tr>\n",
       "      <th>75%</th>\n",
       "      <td>13.0</td>\n",
       "      <td>13.0</td>\n",
       "      <td>24.0</td>\n",
       "    </tr>\n",
       "    <tr>\n",
       "      <th>max</th>\n",
       "      <td>23.0</td>\n",
       "      <td>23.0</td>\n",
       "      <td>37.0</td>\n",
       "    </tr>\n",
       "  </tbody>\n",
       "</table>\n",
       "</div>"
      ],
      "text/plain": [
       "trade_type  Losing Trades  Winning Trades  Total Trades\n",
       "mean                 10.1            10.2          20.3\n",
       "min                   0.0             0.0           0.0\n",
       "25%                   7.0             8.0          17.0\n",
       "50%                  10.0            10.0          21.0\n",
       "75%                  13.0            13.0          24.0\n",
       "max                  23.0            23.0          37.0"
      ]
     },
     "execution_count": 139,
     "metadata": {},
     "output_type": "execute_result"
    }
   ],
   "source": [
    "daily_trades.describe().round(1).drop(['count','std'])"
   ]
  },
  {
   "cell_type": "code",
   "execution_count": null,
   "id": "913e2bc6-6bea-4707-bee3-8fb34bc7b3f8",
   "metadata": {},
   "outputs": [],
   "source": [
    "daily_trades.to_csv(r\"C:\\Users\\Access\\Documents\\AI\\XAUUSD_5m_trade_result_shooting.csv\", index=True)"
   ]
  }
 ],
 "metadata": {
  "kernelspec": {
   "display_name": "Python 3 (ipykernel)",
   "language": "python",
   "name": "python3"
  },
  "language_info": {
   "codemirror_mode": {
    "name": "ipython",
    "version": 3
   },
   "file_extension": ".py",
   "mimetype": "text/x-python",
   "name": "python",
   "nbconvert_exporter": "python",
   "pygments_lexer": "ipython3",
   "version": "3.12.4"
  }
 },
 "nbformat": 4,
 "nbformat_minor": 5
}
