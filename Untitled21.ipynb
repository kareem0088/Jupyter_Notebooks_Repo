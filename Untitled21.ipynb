{
 "cells": [
  {
   "cell_type": "code",
   "execution_count": null,
   "id": "fb8aa905-2358-4b16-b066-9f72c0596e9c",
   "metadata": {},
   "outputs": [],
   "source": [
    "import pandas as pd\n",
    "import numpy as np\n",
    "import matplotlib.pyplot as plt\n",
    "import seaborn as sns\n",
    "from sklearn.model_selection import train_test_split\n",
    "from sklearn.linear_model import LinearRegression\n",
    "from sklearn.metrics import mean_squared_error, r2_score\n",
    "from sklearn.preprocessing import StandardScaler\n",
    "from sklearn.preprocessing import OneHotEncoder\n",
    "\n",
    "data = pd.read_csv(r'C:\\Users\\Access\\Downloads\\Customer Purchasing Behaviors.csv')\n",
    "\n",
    "print(data.head())\n",
    "\n",
    "print(data.info())\n",
    "\n",
    "data = data.dropna()\n",
    "\n",
    "encoder = OneHotEncoder(drop='first')\n",
    "region_encoded = encoder.fit_transform(data[['region']]).toarray()\n",
    "region_encoded_df = pd.DataFrame(region_encoded, columns=encoder.get_feature_names_out(['region']))\n",
    "data = pd.concat([data, region_encoded_df], axis=1)\n",
    "data = data.drop('region', axis=1)\n",
    "\n",
    "scaler = StandardScaler()\n",
    "scaled_features = scaler.fit_transform(data[['age', 'annual_income', 'purchase_amount', 'purchase_frequency']])\n",
    "scaled_features_df = pd.DataFrame(scaled_features, columns=['age', 'annual_income', 'purchase_amount', 'purchase_frequency'])\n",
    "data = pd.concat([data.drop(['age', 'annual_income', 'purchase_amount', 'purchase_frequency'], axis=1), scaled_features_df], axis=1)\n",
    "\n",
    "X = data.drop('loyalty_score', axis=1)\n",
    "y = data['loyalty_score']\n",
    "\n",
    "X_train, X_test, y_train, y_test = train_test_split(X, y, test_size=0.2, random_state=42)\n",
    "\n",
    "model = LinearRegression()\n",
    "model.fit(X_train, y_train)\n",
    "\n",
    "y_pred = model.predict(X_test)\n",
    "\n",
    "mse = mean_squared_error(y_test, y_pred)\n",
    "r2 = r2_score(y_test, y_pred)\n",
    "\n",
    "print(f'Mean Squared Error: {mse}')\n",
    "print(f'R-squared: {r2}')\n",
    "\n",
    "plt.scatter(y_test, y_pred)\n",
    "plt.xlabel('actual loyalty score')\n",
    "plt.ylabel('predicted loyalty score')\n",
    "plt.title('actual vs predicted loyalty score')\n",
    "plt.show()"
   ]
  }
 ],
 "metadata": {
  "kernelspec": {
   "display_name": "Python 3 (ipykernel)",
   "language": "python",
   "name": "python3"
  },
  "language_info": {
   "codemirror_mode": {
    "name": "ipython",
    "version": 3
   },
   "file_extension": ".py",
   "mimetype": "text/x-python",
   "name": "python",
   "nbconvert_exporter": "python",
   "pygments_lexer": "ipython3",
   "version": "3.12.4"
  }
 },
 "nbformat": 4,
 "nbformat_minor": 5
}
