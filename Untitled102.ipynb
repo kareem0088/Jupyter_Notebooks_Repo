{
 "cells": [
  {
   "cell_type": "code",
   "execution_count": 2,
   "id": "ffbd4ffc-1a97-46bd-9647-f7eb4de0a36c",
   "metadata": {},
   "outputs": [
    {
     "name": "stdout",
     "output_type": "stream",
     "text": [
      "1\n",
      "2\n",
      "3\n",
      "4\n",
      "5\n",
      "6\n",
      "7\n",
      "8\n",
      "9\n",
      "10\n"
     ]
    }
   ],
   "source": [
    "x = [1,2,3,4,5,6,7,8,9,10]\n",
    "for xx in x:\n",
    "    print (xx)"
   ]
  },
  {
   "cell_type": "code",
   "execution_count": 12,
   "id": "ba1f57f9-8e80-4672-ab56-d1f053c85939",
   "metadata": {},
   "outputs": [
    {
     "name": "stdout",
     "output_type": "stream",
     "text": [
      "5050\n"
     ]
    }
   ],
   "source": [
    "ii = 0\n",
    "for i in range(1,101):\n",
    "    ii += i\n",
    "print (ii)"
   ]
  },
  {
   "cell_type": "code",
   "execution_count": null,
   "id": "fde4e867-2725-4063-af6d-b945e34157fa",
   "metadata": {},
   "outputs": [],
   "source": []
  },
  {
   "cell_type": "code",
   "execution_count": 3,
   "id": "a1d63d64-0328-4f28-b1ff-c95381e80d26",
   "metadata": {},
   "outputs": [
    {
     "name": "stdout",
     "output_type": "stream",
     "text": [
      "Defaulting to user installation because normal site-packages is not writeable\n",
      "Collecting git+https://github.com/Auquan/auquan-toolbox.git\n",
      "  Cloning https://github.com/Auquan/auquan-toolbox.git to c:\\users\\access\\appdata\\local\\temp\\pip-req-build-tbo7swdo\n",
      "Note: you may need to restart the kernel to use updated packages.\n"
     ]
    },
    {
     "name": "stderr",
     "output_type": "stream",
     "text": [
      "  Running command git clone --filter=blob:none --quiet https://github.com/Auquan/auquan-toolbox.git 'C:\\Users\\Access\\AppData\\Local\\Temp\\pip-req-build-tbo7swdo'\n",
      "  remote: Repository not found.\n",
      "  fatal: repository 'https://github.com/Auquan/auquan-toolbox.git/' not found\n",
      "  error: subprocess-exited-with-error\n",
      "  \n",
      "  git clone --filter=blob:none --quiet https://github.com/Auquan/auquan-toolbox.git 'C:\\Users\\Access\\AppData\\Local\\Temp\\pip-req-build-tbo7swdo' did not run successfully.\n",
      "  exit code: 128\n",
      "  \n",
      "  See above for output.\n",
      "  \n",
      "  note: This error originates from a subprocess, and is likely not a problem with pip.\n",
      "\n",
      "[notice] A new release of pip is available: 24.3.1 -> 25.1.1\n",
      "[notice] To update, run: python.exe -m pip install --upgrade pip\n",
      "error: subprocess-exited-with-error\n",
      "\n",
      "git clone --filter=blob:none --quiet https://github.com/Auquan/auquan-toolbox.git 'C:\\Users\\Access\\AppData\\Local\\Temp\\pip-req-build-tbo7swdo' did not run successfully.\n",
      "exit code: 128\n",
      "\n",
      "See above for output.\n",
      "\n",
      "note: This error originates from a subprocess, and is likely not a problem with pip.\n"
     ]
    }
   ],
   "source": [
    "pip install git+https://github.com/Auquan/auquan-toolbox.git --config-settings=\"global.credential.helper=\"\n"
   ]
  },
  {
   "cell_type": "code",
   "execution_count": 1,
   "id": "c0ea2fc5-fea6-425b-b337-8699827f05bf",
   "metadata": {},
   "outputs": [
    {
     "ename": "ModuleNotFoundError",
     "evalue": "No module named 'auquan_toolbox'",
     "output_type": "error",
     "traceback": [
      "\u001b[1;31m---------------------------------------------------------------------------\u001b[0m",
      "\u001b[1;31mModuleNotFoundError\u001b[0m                       Traceback (most recent call last)",
      "Cell \u001b[1;32mIn[1], line 1\u001b[0m\n\u001b[1;32m----> 1\u001b[0m \u001b[38;5;28;01mfrom\u001b[39;00m \u001b[38;5;21;01mauquan_toolbox\u001b[39;00m\u001b[38;5;21;01m.\u001b[39;00m\u001b[38;5;21;01mdata\u001b[39;00m\u001b[38;5;21;01m.\u001b[39;00m\u001b[38;5;21;01mdata_handler\u001b[39;00m \u001b[38;5;28;01mimport\u001b[39;00m YahooFinanceDataHandler\n\u001b[0;32m      2\u001b[0m \u001b[38;5;28;01mimport\u001b[39;00m \u001b[38;5;21;01mpandas\u001b[39;00m \u001b[38;5;28;01mas\u001b[39;00m \u001b[38;5;21;01mpd\u001b[39;00m\n\u001b[0;32m      4\u001b[0m \u001b[38;5;66;03m# تهيئة أداة التحميل\u001b[39;00m\n",
      "\u001b[1;31mModuleNotFoundError\u001b[0m: No module named 'auquan_toolbox'"
     ]
    }
   ],
   "source": [
    "from auquan_toolbox.data.data_handler import YahooFinanceDataHandler\n",
    "import pandas as pd\n",
    "\n",
    "# تهيئة أداة التحميل\n",
    "data_handler = YahooFinanceDataHandler()\n",
    "\n",
    "# تحميل البيانات\n",
    "df = data_handler.get_data(\n",
    "    instrument='XAUUSD=X',             # رمز الذهب على Yahoo Finance\n",
    "    start_date='2010-01-01',\n",
    "    end_date='2025-01-01',\n",
    "    frequency='1h'                     # الفاصل الزمني: ساعة\n",
    ")\n",
    "\n",
    "# عرض أول 5 صفوف\n",
    "print(df.head())\n"
   ]
  },
  {
   "cell_type": "code",
   "execution_count": null,
   "id": "f0050a28-6f04-4081-a995-cb1a6c00b607",
   "metadata": {},
   "outputs": [],
   "source": []
  }
 ],
 "metadata": {
  "kernelspec": {
   "display_name": "Python 3 (ipykernel)",
   "language": "python",
   "name": "python3"
  },
  "language_info": {
   "codemirror_mode": {
    "name": "ipython",
    "version": 3
   },
   "file_extension": ".py",
   "mimetype": "text/x-python",
   "name": "python",
   "nbconvert_exporter": "python",
   "pygments_lexer": "ipython3",
   "version": "3.12.4"
  }
 },
 "nbformat": 4,
 "nbformat_minor": 5
}
