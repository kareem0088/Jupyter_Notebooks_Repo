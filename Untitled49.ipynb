{
 "cells": [
  {
   "cell_type": "code",
   "execution_count": null,
   "id": "28d8114f-8d40-4d45-beef-f391fb9d64b3",
   "metadata": {},
   "outputs": [],
   "source": []
  },
  {
   "cell_type": "code",
   "execution_count": 3,
   "id": "3782bc56-59a0-4140-8702-d6fc331764e3",
   "metadata": {},
   "outputs": [
    {
     "name": "stdout",
     "output_type": "stream",
     "text": [
      "الربح الإجمالي بعد 20 يوم تداول:  39.80674019135847\n"
     ]
    }
   ],
   "source": [
    "# المعطيات\n",
    "initial_balance = 100  # الرصيد الابتدائي\n",
    "win_rate = 0.79  # نسبة الربح في الصفقة\n",
    "risk_to_reward = 3  # نسبة المخاطرة إلى الهدف\n",
    "risk_per_trade_percent = 0.01  # نسبة المخاطرة لكل صفقة\n",
    "trades_per_day = 7  # عدد الصفقات في اليوم\n",
    "days_in_month = 20  # عدد أيام التداول في الشهر\n",
    "\n",
    "# محاكاة تداولات الشهر\n",
    "current_balance = initial_balance  # رصيد الحساب يبدأ بالرصيد الابتدائي\n",
    "total_profit = 0  # الربح الإجمالي بعد 20 يوم تداول\n",
    "\n",
    "for day in range(days_in_month):\n",
    "    for trade in range(trades_per_day):\n",
    "        # حساب المخاطرة لكل صفقة بناءً على الرصيد الحالي\n",
    "        risk_per_trade = current_balance * risk_per_trade_percent\n",
    "        \n",
    "        # حساب الربح والخسارة\n",
    "        reward_per_win = risk_per_trade * win_rate  # الربح في الصفقة الفائزة\n",
    "        loss_per_loss = risk_per_trade * risk_to_reward  # الخسارة في الصفقة الخاسرة\n",
    "\n",
    "        # تحديد إذا كانت الصفقة فائزة أو خاسرة بناءً على النسبة\n",
    "        if trade < trades_per_day * win_rate:\n",
    "            current_balance += reward_per_win  # إضافة الربح للرصيد\n",
    "        else:\n",
    "            current_balance -= loss_per_loss  # خصم الخسارة من الرصيد\n",
    "\n",
    "    # حساب الربح الإجمالي بعد اليوم\n",
    "    total_profit = current_balance - initial_balance\n",
    "\n",
    "# إظهار النتيجة النهائية\n",
    "print(\"الربح الإجمالي بعد 20 يوم تداول: \", total_profit)\n"
   ]
  },
  {
   "cell_type": "code",
   "execution_count": 5,
   "id": "966f8b19-ee2a-4951-94d2-60b860ec1197",
   "metadata": {},
   "outputs": [
    {
     "name": "stdout",
     "output_type": "stream",
     "text": [
      "الربح الإجمالي بعد 20 يوم تداول:  79.47317227387342\n"
     ]
    }
   ],
   "source": [
    "# المعطيات\n",
    "initial_balance = 100  # الرصيد الابتدائي\n",
    "win_rate = 0.79  # نسبة الربح في الصفقة\n",
    "risk_per_trade_percent = 0.01  # نسبة المخاطرة لكل صفقة\n",
    "risk_amount = 3  # المخاطرة (1 وحدة)\n",
    "reward_amount = 1  # العائد (3 وحدات)\n",
    "trades_per_day = 7  # عدد الصفقات في اليوم\n",
    "days_in_month = 20  # عدد أيام التداول في الشهر\n",
    "\n",
    "# محاكاة تداولات الشهر\n",
    "current_balance = initial_balance  # رصيد الحساب يبدأ بالرصيد الابتدائي\n",
    "total_profit = 0  # الربح الإجمالي بعد 20 يوم تداول\n",
    "\n",
    "for day in range(days_in_month):\n",
    "    for trade in range(trades_per_day):\n",
    "        # حساب المخاطرة لكل صفقة بناءً على الرصيد الحالي\n",
    "        risk_per_trade = current_balance * risk_per_trade_percent\n",
    "        \n",
    "        # حساب العائد والخسارة\n",
    "        reward_per_win = risk_per_trade * reward_amount  # العائد في الصفقة الفائزة (3 أضعاف المخاطرة)\n",
    "        loss_per_loss = risk_per_trade * risk_amount  # الخسارة في الصفقة الخاسرة (1 وحدة مخاطر)\n",
    "\n",
    "        # تحديد إذا كانت الصفقة فائزة أو خاسرة بناءً على النسبة\n",
    "        if trade < trades_per_day * win_rate:\n",
    "            current_balance += reward_per_win  # إضافة العائد للرصيد\n",
    "        else:\n",
    "            current_balance -= loss_per_loss  # خصم الخسارة من الرصيد\n",
    "\n",
    "    # حساب الربح الإجمالي بعد اليوم\n",
    "    total_profit = current_balance - initial_balance\n",
    "\n",
    "# إظهار النتيجة النهائية\n",
    "print(\"الربح الإجمالي بعد 20 يوم تداول: \", total_profit)\n"
   ]
  },
  {
   "cell_type": "code",
   "execution_count": 6,
   "id": "3586a9e5-7ae1-4521-ad58-33c5bd1e2b35",
   "metadata": {},
   "outputs": [
    {
     "name": "stdout",
     "output_type": "stream",
     "text": [
      "الربح الإجمالي بعد 20 يوم تداول:  80.05080017695852\n"
     ]
    }
   ],
   "source": [
    "# المعطيات\n",
    "initial_balance = 100  # الرصيد الابتدائي\n",
    "win_rate = 0.57  # نسبة الربح في الصفقة\n",
    "risk_per_trade_percent = 0.01  # نسبة المخاطرة لكل صفقة\n",
    "risk_amount = 1  # المخاطرة (1 وحدة)\n",
    "reward_amount = 1.5  # العائد (3 وحدات)\n",
    "trades_per_day = 7  # عدد الصفقات في اليوم\n",
    "days_in_month = 20  # عدد أيام التداول في الشهر\n",
    "\n",
    "# محاكاة تداولات الشهر\n",
    "current_balance = initial_balance  # رصيد الحساب يبدأ بالرصيد الابتدائي\n",
    "total_profit = 0  # الربح الإجمالي بعد 20 يوم تداول\n",
    "\n",
    "for day in range(days_in_month):\n",
    "    for trade in range(trades_per_day):\n",
    "        # حساب المخاطرة لكل صفقة بناءً على الرصيد الحالي\n",
    "        risk_per_trade = current_balance * risk_per_trade_percent\n",
    "        \n",
    "        # حساب العائد والخسارة\n",
    "        reward_per_win = risk_per_trade * reward_amount  # العائد في الصفقة الفائزة (3 أضعاف المخاطرة)\n",
    "        loss_per_loss = risk_per_trade * risk_amount  # الخسارة في الصفقة الخاسرة (1 وحدة مخاطر)\n",
    "\n",
    "        # تحديد إذا كانت الصفقة فائزة أو خاسرة بناءً على النسبة\n",
    "        if trade < trades_per_day * win_rate:\n",
    "            current_balance += reward_per_win  # إضافة العائد للرصيد\n",
    "        else:\n",
    "            current_balance -= loss_per_loss  # خصم الخسارة من الرصيد\n",
    "\n",
    "    # حساب الربح الإجمالي بعد اليوم\n",
    "    total_profit = current_balance - initial_balance\n",
    "\n",
    "# إظهار النتيجة النهائية\n",
    "print(\"الربح الإجمالي بعد 20 يوم تداول: \", total_profit)\n"
   ]
  },
  {
   "cell_type": "code",
   "execution_count": null,
   "id": "5e41b9b1-1fb8-4690-8e70-89b8cf454239",
   "metadata": {},
   "outputs": [],
   "source": []
  },
  {
   "cell_type": "code",
   "execution_count": 12,
   "id": "f909ee36-c005-4b42-9f39-daac014f7efc",
   "metadata": {},
   "outputs": [
    {
     "name": "stdout",
     "output_type": "stream",
     "text": [
      "الرصيد المتوقع بعد 20 يوم تداول: $100.00\n"
     ]
    }
   ],
   "source": [
    "# المتغيرات\n",
    "initial_balance = 100  # الرصيد الابتدائي بالدولار\n",
    "profit_percentage = 0.5  # نسبة ربح الصفقة (79%)\n",
    "risk_to_reward = 1  # نسبة المخاطرة 3:1\n",
    "trades_per_day = 7  # عدد الصفقات في اليوم\n",
    "risk_per_trade = 0.01  # نسبة المخاطرة لكل صفقة (1%)\n",
    "trading_days = 20  # عدد أيام التداول في الشهر\n",
    "\n",
    "# حساب العدد الإجمالي للصفقات\n",
    "total_trades = trades_per_day * trading_days\n",
    "\n",
    "# حساب العامل المتوقع لكل صفقة (ربح أو خسارة)\n",
    "expected_return_per_trade = (profit_percentage * (risk_to_reward * risk_per_trade) \n",
    "                             - (1 - profit_percentage) * risk_per_trade)\n",
    "\n",
    "# حساب الرصيد النهائي باستخدام الفائدة المركبة\n",
    "final_balance = initial_balance * (1 + expected_return_per_trade) ** total_trades\n",
    "\n",
    "print(f\"الرصيد المتوقع بعد {trading_days} يوم تداول: ${final_balance:.2f}\")"
   ]
  },
  {
   "cell_type": "code",
   "execution_count": 11,
   "id": "e6734295-c020-4e60-af26-c2710370fdec",
   "metadata": {},
   "outputs": [
    {
     "name": "stdout",
     "output_type": "stream",
     "text": [
      "الرصيد المتوقع بعد 1 يوم تداول: $98.97\n"
     ]
    }
   ],
   "source": [
    "# المتغيرات\n",
    "initial_balance = 100  # الرصيد الابتدائي بالدولار\n",
    "profit_percentage = 0.5  # نسبة ربح الصفقة (79%)\n",
    "risk_to_reward = 1  # نسبة المخاطرة 3:1\n",
    "trades_per_day = 7  # عدد الصفقات في اليوم\n",
    "risk_per_trade = 0.01  # نسبة المخاطرة لكل صفقة (1% من الرصيد الحالي)\n",
    "trading_days = 1  # عدد أيام التداول في الشهر\n",
    "\n",
    "# حساب العدد الإجمالي للصفقات\n",
    "total_trades = trades_per_day * trading_days\n",
    "\n",
    "# متغير لتتبع الرصيد الحالي\n",
    "current_balance = initial_balance\n",
    "\n",
    "# محاكاة الصفقات\n",
    "for trade in range(total_trades):\n",
    "    # حساب قيمة المخاطرة (1% من الرصيد الحالي)\n",
    "    risk_amount = current_balance * risk_per_trade\n",
    "    \n",
    "    # تحديد نتيجة الصفقة (ربح أو خسارة)\n",
    "    import random\n",
    "    if random.random() < profit_percentage:  # الصفقة رابحة\n",
    "        current_balance += risk_amount * risk_to_reward  # الربح\n",
    "    else:  # الصفقة خاسرة\n",
    "        current_balance -= risk_amount  # الخسارة\n",
    "\n",
    "# طباعة الرصيد النهائي\n",
    "print(f\"الرصيد المتوقع بعد {trading_days} يوم تداول: ${current_balance:.2f}\")"
   ]
  },
  {
   "cell_type": "code",
   "execution_count": null,
   "id": "7c2f3ec3-ba5b-4d04-b4c8-8ae4be555c1f",
   "metadata": {},
   "outputs": [],
   "source": []
  }
 ],
 "metadata": {
  "kernelspec": {
   "display_name": "Python 3 (ipykernel)",
   "language": "python",
   "name": "python3"
  },
  "language_info": {
   "codemirror_mode": {
    "name": "ipython",
    "version": 3
   },
   "file_extension": ".py",
   "mimetype": "text/x-python",
   "name": "python",
   "nbconvert_exporter": "python",
   "pygments_lexer": "ipython3",
   "version": "3.12.4"
  }
 },
 "nbformat": 4,
 "nbformat_minor": 5
}
